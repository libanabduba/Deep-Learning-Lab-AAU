{
  "nbformat": 4,
  "nbformat_minor": 0,
  "metadata": {
    "colab": {
      "provenance": [],
      "gpuType": "T4",
      "authorship_tag": "ABX9TyO8Y0uHSTFc3JnhtnwJs6ns",
      "include_colab_link": true
    },
    "kernelspec": {
      "name": "python3",
      "display_name": "Python 3"
    },
    "language_info": {
      "name": "python"
    },
    "accelerator": "GPU"
  },
  "cells": [
    {
      "cell_type": "markdown",
      "metadata": {
        "id": "view-in-github",
        "colab_type": "text"
      },
      "source": [
        "<a href=\"https://colab.research.google.com/github/libanabduba/Deep-Learning-Lab-AAU/blob/main/Assignment_4.ipynb\" target=\"_parent\"><img src=\"https://colab.research.google.com/assets/colab-badge.svg\" alt=\"Open In Colab\"/></a>"
      ]
    },
    {
      "cell_type": "markdown",
      "source": [
        "# **Forward and Backward propagation**\n",
        "* Use 2 features in the input layer, 1 hidden layer with 4 neurons, and an output layer with 2 neurons.\n",
        "* Use sigmoid activation in the hidden layer and linear activation in the output layer.\n",
        "* Assume the task is regression task and use MSE for the loss function."
      ],
      "metadata": {
        "id": "OLqDzlGLyBeV"
      }
    },
    {
      "cell_type": "code",
      "source": [],
      "metadata": {
        "id": "gdR1Q6991PEo"
      },
      "execution_count": null,
      "outputs": []
    },
    {
      "cell_type": "markdown",
      "source": [
        "\n",
        "> ## The following is Image for the neural net we are going to build\n",
        "![Group (1).png](data:image/png;base64,iVBORw0KGgoAAAANSUhEUgAAAe4AAAE/CAYAAACAdSDcAAAACXBIWXMAAAsTAAALEwEAmpwYAAAAAXNSR0IArs4c6QAAAARnQU1BAACxjwv8YQUAAEGcSURBVHgB7Z1/bFvXefcfUrIUyZZFR5ITe3N1DQOdnTqzIjvLu6KA6QDtW2wILP/RIR3ail5eBO26xs7Q5G2BtKYXtF1TFJHbFSsKZKbXYgsQYJFbbNhWLKLXrmsa25GbNPb+8OvrOrAdy3LoKJYjSyLf8/CeGx7RJMUf5/7+foALSqRIXpH3nO85z/me54kRAMAThoaGEvF4PBWLxbYVCoWkuE2IuxPy4Zw4TD7EY0fz+Xx2cnLSJABA5IkRAMBVhGAn29raDiwsLCSvX79OMzMzdPPmTZqbm6PFxcXi34jHqbOzk7q6uqinp4dWrVrFv2eFiB85efJkhgAAkQXCDYBL2IIthDp56dKlomA3Ql9fH61bt44F3BQCvwszcAAAAMAhhoeHD2zbtq0gxLcgfm3p4NfYunVrgV+TAAAAAKAXIbCHP/jBDxY6OjpaFm374NfasmVLYfv27YcJAAAAAHpg0TYMQ5tglx/82hBvAAAAQANCtJ/dtGmTY6JNinjv2LHjWQIAAABAcwjRTvE6dFtbm+PCze8h17z3EwAAAAAaY2hoyBDh63M617SXO7q7uzlk/jbvDScAQKiJEwBAK7zla3p62rh16xa5xezsLF25coUTumDWDUDIgXADoBGebYub1MWLF8lt+D3z+fw+zLoBCDcQbgA0Ima8STHbJjdn2zacde3q1avFNKoEAAgtEG4ANBKLxUZZuL2CU6iKc9hNAIDQAuEGQBMyRJ1sNJWpTnitW8y8kwiXAxBeINwA6GPIS9FmOFzOxUra29uHCAAQSiDcAGhCrC0bXqxtl8Oz7nw+bxAAIJRAuAHQh8GzXa+RgweDAAChBMINAAAABAgINwAAABAgINwA6MPs7Owkr+no6OAbkwAAoQTCDYAm4vG42dXVRV7Dgwc+FwIAhBIINwCaWFhYmGTRbGtrIy/p6ekpngsBAEIJhBsATUxOTuaEaGe7u7vJK1atWsU3WT4XAgCEEgg3ABopFApHe3t7ySv6+/v5HI4QACC0eBvTAyAkjIyMJDZv3vzZlStXJkSYemhqauoOIaDkJmxKMwyD1q5de2rr1q27xfn8z5kzZzDzBiBkQLgBaAEh2EkhkAfEj1vE8f0f//jH/7p+/fouETJPvvPOO+QmGzZsIBGmz/zsZz97nEVb3MXnNiIOEgJuEgAgFMQIANAQPLsWN/vEsUYc44Ks+jgX+BDCfe706dMJTj/qBjzbFrNsM5/P7xLr2yYtPd+kuOGD78+K8zUJABBYINwA1IkigBx+zggBrBqGHh4e3j8/P//sG2+8USz84STsYr/nnntoxYoVe0+ePJmp9nfi/A1xkyZLwDMQcACCCYQbgBrI2XVSHFxti7dYZWsJtvq8t99++9z58+cTpmmSk2zatInWrVs32d/fv6uec5PnlyIrn7kpnpMhAEBggHADUAEp2Clx8G22PBy+zHMNsma2+y9cuDA2PT096pR4Dw4OspP8iFjfTotfea39YCMzaXmuKbL+zzHMwgHwPxBuABRkOHyESuHkhlzZdjhdPC9t37d9+/aMWOsePXv2LOkq+2k7yHt6eo6cOHEipbw//2w2MtCQzzPIiixsE8fRRp8PAHAPCDeIPIrZjMPhh5oVLfE6/Box8fyx8sd27NiRnpubO3Dx4kUSM3Bqhb6+vqKDvL29/eDx48fTFc5jv7jpFedxkJoAZjYA/A2EG0SWRsxmdbwWiyWLXNVUo0NDQ0Y8Hp+Yn583mhFwzoq2fv16nmVnY7EYi3aWqp8PD0KSlQYR9aKE0ZnxWv8bAMA9INwgUrSydl3l9QxqcG15eHg4JYR3VITNkzMzM8QHbxvjMLrtQGenOIfDuWjJ6tWrKZFI8H3LCnaFc3tWHI+3OmuWIfiiQQ9mNgC8BcINIoEUMV67ZsHWMnuUs1p+zbFmZutyBp4UYrxb/GoUCgVD/Mznx2lL+fVy4ves+PlUPp/PNJN/XA5UOBqgZftX2SwcW8oA8AAINwg1OsPhKnv27BkVgrqmlVC0m8hQfk7XbFkOCHjQspMsM9s4AQBcAcINQocSDmeH9BHdDmndIugWMtzNprVDpBGY2QBwFwg3CA1SQEbFcYo0zq6V17fDzoE1aimh7jEHPh+DLAHn2+w4tpQB4AgQbhBodJvNaryPQU0kOPEjOk1rNd4jRZaIZ8ka6KBKGQCagHCDQKIYw1gQxp0UUx1bq/xIPVvYNLyHQTCzAaAVCDcIFE6ZzWq8X9WkKmFA/H9pstbrHf//sKUMAD1AuIHvcSscXuF90xSBtVo5GDLcElNl8FUgyzxoEgCgbiDcwLfIDp5nvGw2Gxt3aZ1UDhR4DTjw69n14sUaPsxsADQHhBv4Cq9m18r7GyQre0XNUCU/exbvQ24PWMR7s18hSaXSqSYBACoC4Qa+wO216xrnMBTW9ex6kaY104ukKnLgVNwnTzCzAVARCDfwFDnTYsOSSR5uG5JiRVEXbZtWK4xpOocUWWF0E2Y2AEpAuIHreB0Or3AugU6q4hR+2QanbP0bpAj5DgCoBoQbuIYMRdt7r8fGPV5DDlNSFadwI1lLg+eSJJjZQMSBcANHkTNadoavIWtWmyUf0GplryihREjG/TLAQX50EGUg3MAR/GA2q0bQKnv5BT/6AMrMbFjuAJEAwg20oZR6NMjKjuW6K3k5vHRMhwFpJhzUXWFMBzCzgagA4QYt4yezWTXkOabJCo2bBJpGmeWm/bjMoORH5+8c3zcIHRBu0DR+DoerRDmpilP4ybRWDSUCxHXZjyHKAsIChBs0hGI2Y3PXIb87e+3BhTjPNAHtyPD0pN/XlmFmA2ECwg3qQtnKZZKPZ9cqYa/s5RdkMZaCl8la6kVGCvg69u2yDgDLAeEGVQnC2nU1olLZyy8EsWY5yoyCoALhBrdhd8JkCXagtthEsbKXXwjCunclFDMbg/zowPdAuMH7BMVsVg2/u52jgJcVxnQgZ+E7yTKzZQgAHwLhjjhKOJydt0eCGlqW+4sNrGf7g6Dvl4eZDfgZCHdEkR3TqDjOU8DTfkqRyGGG5C/k91LwY7KWekF+dOBHINwRIshms0qgspf/UVzcgVt6KUdGdfjIkoclaAGAcEeAsrVr3xSKaAVU9goOQTWtVQNmNuA1EO4QE3SzWTUU13to/qcoIEPn2TBFR7ClDHgBhDtkhC0cXg6SqgQbub8+F7bvTykTWyDL5GkSAA4B4Q4JYTKbVQNJVcKBnyuMtQrMbMANINwBRpldG2StXWcphCCpSviIwp57JU0wLw1gSxnQBoQ7gIR17boSqOwVXqJiMFQGKXZ7NQmAFoBwBwQ560ySNMKQNYIPtZChslc0kAYvMwphZfm/GmT9vxkCoAkg3D4n7GazasCEFi2k47w3CBXGdKBsKRskLAGBBoFw+5QgltHURRi3DYHlCWKFsVZRzGyccvgozGygHiDcPkLOrnmmuZEssc5ShEBSFRC2ZC2NgPzooF4g3D4gSmazaij7YEO5lQ3Uj5LKNpJGrjIzG9L5gtuAcHtEVNeuK7Fnz57RQqGwBuvZQAXFY5CZDVQGwu0yEOyloHMGtZDC1RvGZC2NoJjZuN8YQxg92kC4XQLh8KWgsheolygka6kX2W54SWknWWa2cQKRA8LtIIrZzCArf3GWAExooGGibFqrBsxs0QXC7QBR3sq1HFHc8gP0ga2Ct6PUPMfyW0SAcGsCa9fLg6QqQAdhrTCmA+kJSJLVB2UIhBIId4sotaEZzASqgMpeQCcyqmVAnCqjmNkY5EcPGRDuJoHZrD5Q2Qs4BbwS9YEtZeHDU+EeGhoyxE0yHo9z556Qd+fy+bwpbs1JAfmIqJTR1AUqe9VGXP8Jce2nYrHYtkKhkBS3S9oBWR4JUzx2VLSJrGgOJoElyDbJ4n0I4l0bZbLxNlmOdJN8RND0wEtcF27x5STb29t3i84oddfatYlNGzeSuKWVK1cWH79x4wa9deUKnT13jm9NcVd2cXHxiPjOsuQR8oIfFcd5QmavuhCfGZtlDKxD3g63gba2tgMLCwvJ69ev08zMDN28eZPm5uZIXOvFvxGPU2dnJ3V1dVFPTw+tWrWKf8+KdnPk5MmTGQJLkKY1E9ujlkfJj863ni5fqXqQ71ubyH9gkAr9a6nQ3V18PDY7S7GrVyh+waT41SmTfKAHfsA14bY7q9/fujX54QceID5YsGvBAv7r11+nHz7/fFHExZd70K1OC2az5kFSlcrYbUAIdfLSpUtFwW6Evr4+WrduHQu4KTqvXZiBLyVqFcZ0IAfYSbJKBY+7NSmx28Li730ouTC8gxaG/0AI9kDN5wjhpviZ31DH0ReKIu6mHvgNx4Wbwx/iCzosRDr5xcceIyHc1Aw/feklW8AzotM66FSnhbXr5kFSleoMDw8fENdt+s0336Tp6WlqBVvAOzo60qLjgkgpYLthc5TlR3fMzGbrQb5/IDn3yOdpcfM91AztP8/aAu6oHvgVR4VbfElD4kt6cc9DDxmffeQR0sGPhHgLATfFOsieV155RZs4yJEnN3oIdhPAKFQdIdqH33333ZRpmnTr1i3SgRBt2rRpE3V3d2dOnDixl8D7IFlLa0gzm0HW0kOGNGHrwfxH/9iY+9NR0kHH+Ass4Nr1wO84Jtz8JfX29k4c+NKXEs3Osqvxi5dfpm9/97u52dnZXa18WQiH6wGVvarDon3t2rWiaDuBYRg8A4d4l6G07XGId3Mo7bqXWjT/sR7EV6+eeO8vnkg0O8uuRvvJX1Hn3/1tru3mzV1REW9HhNsW7WeefrpoPnMCNq89+ZWvNCXeSmYzFhmITQugsld1hGg/e/369f1nz54lJ2Hx7u/vHzt+/PjjBJaAZC2t06qZzRbtm08eSOQ/YJATxH9rUtczByMj3tqFW65hTKS//GXjDx94gJyEjWtPPPVUXUYdJW/4GsJWLi3AyVsdIdopERY/fPr06fed4k7BDvQtW7Zw+PxxseYNgSpDLoMNRr3CmA4azY9u68F7X3jCWBi+n5yk7cxvqOubByNh3NQu3Nu3bz/8qYcfTn364YfJDb7/3HP04k9+khWhwl2VHofZTD9yEJQmlBesiN1Zvfbaa4auNe3lEGvdLN450WltFJ0WrvEyUGFML0qOBpNqmNlYD27t/kTq1sgnyA06/yFDK376L1X1ICxoFW6eZdx9112H//4HPyA3+cyjj9KVqaldIlSY5d+V0ncGWdscsmisekBSleXhzmp6etqxde1qbNiwgQYGBniLTJrAbcC05gzVzGysB4WBtYdnv/U9cpPuJz5PbdNX39eDMKJVuEWHde6Ljz1mfPTBB8lNZMg8KzquPQSzmWPY0QvxuaYJVETOts+J2Ta5Ndu24ZD5vffey4MpzLprIIXGRP+gFyU/Ove/YxcuXJiYe+TPjfmPJMlNZMg81LPuNtIEb6hfd/fd+3mvtttwIpfXXn/duHrt2t1ine+bokH+65kzZ0wC2pCVvdaJz/avCVRl/fr1I9euXRtpda92MxQKBWpvb79j1apVb126dOmXBCoi+obJzZs3j4jjf4ufjxHQgvgsc+LIis/1TC6XS723undk7v98ntyGM6+1/c9vjN/t7Dh28eJFk0JInDQhRvujbq1rV4KNcKKzvI7wrX6kM/cUnLnLE4vFRr0QbRtOoSrOYTeBmshr+ag0WAKN8DLEzMzM4Pxud9a1K7Fw3/2Uz+dHKKRoE25BUvd+7UbgFKrcaRLQBnsFxHGYLPNJlkBNuGiIuEk2mspUJ7Ozs+xiT8pzATWQ2f3GxTX+ogzzAn0kFzZ/iLyCU6iGWQ+0CDfv0xPhamO53ONOwu/NRUvuu+++QQIto5jQYOSpnyEvRZvhrWdcrESEzIcILIu8tjl5zT6Itx5YD/L9A8ZyucedhN873zcQWj3QItwiTG44lWilEfgcxCgr1NsA3ICTqoibEdGpwTneAPF43HDbkFYJnnWLMKFBoC74GhcHJ68ZkXu+QQuwHuQ3GOQ1+UEjtHqgRbgLhYKns20beQ4IEbYAr/mJ7zOG9eymMHi26zVy8GAQaAh5zRvSiAmahPWADWKen0dfccYfSj1oJz0k7HraXsLn0NHRsU1uW6qEQcHHIOfYJm9PSUMaaICrV6/uJJ/Q3d29E99h0xjS23GenCMnj6BS9fwvX768bV7W0/aSQndRkyDcAaHW3vQsBRwn1puVyl5Yz26B4eHhNFlZ+jxHhMuPYb998zidrEUmiQqyqNQ6f8fLRUcdXcKdu3HjBnkNn4MIE07CAV0/dv1isjoorGe3htnZ2UlewyU/yUpFCZpEivUeXjoSR3Zcc3152dZC2d7EAHYoNjvruaM7NlvUpFB+xrq2g+XeunKFvIbPIRaLmQTqQq7lcSa0MYh268TjcbOrq4u8hgcPfC4EWkaue49gv3dD5GJXvdeD2PRUaPVAi3Dn8/ksl9n0Gj6HxcVFk8CyIKmKfhYWFiZZNDn1qJf09PQUz4WAFuSSgwnTWn2wHsQvmOQ1XOozrHqgRbi5hJqY7Xo66+b3vvzWW6Y4F3RYNUBSFefg/OBCtLPdHhpzVq1axTdZ5CrXiyxdy5nWxuT6NKgC60H86pSYdU+RV8TFjD82dSW0eqAtc1qhUDjyi5dfJq849frrHBbJEqiKNNzwDBsmNIcQ7eBob28veUV/fz8nXzlKQDuyzXD7eRbJWmrDetB+8hXyiviZN0KtB9qEW6ypjXsp3D96/nm68847CQ2qMnKLXEp0PimsZ+uHP19efli3bh2LZ86LcDmb0vr6+rgd8HamNNqCfli8xcGZ1pJI1lIZjkisWbOG2l/9FXlFx9EXWLiPUEjR1rtwFZa29nbOV27c7XIyln9/6SX69//4D3NgYKDYoGTlH0KFMAtU9nIG7qDEdfZZcXycLPfq8z/5yU+y69ev7xLCnXznnXfITbgetwjTZ/7zP//zc7JK04g8DK6IRUAbssLYx1FhrAQPXsXnwSa+oc7Ozr+e+X9n/9fi5ntcT8bS/vMsH+aJEycep5Cidb/djh07kmsHBib+/gc/IDf5zKOP8vr23pMnT2bs++za0WRti8lGNTQs3bDat7NEGWULXcW671zgg2tynz59OsHpR92AZ9tbt2418/n8Ll5jpKXna5BVJ5nJYJlEH/a1EFWTp1zv54kBfw6H1LbAerDY1z8x+63vkZt0P/F5Xt9eogdhQ/tG+e3bt0+MPPRQ8nOPPEJuwCHyHz7/fEaMrvZWelx2WhzSqtjJhhUlqcpBdNR6UAaDPLvO1FpyGB4e3j8/P//sG2+8USz84SQclr/nnntoxYoVNTsr2clyW+AMb5ygJUOgZZxO1uJHZFvgvdqnqEZbYD2Y/9gfJec+mSI34BB5x/gLVfUgLGgXbjHbMMR698S3vvY1Y5vDZT55TT399a9XnGVUQlxsKbI63ixZRtFQrvXKWQB30Nif3SJS7FLUxMBPdFpj09PT+0zTJCfZtGkTJRKJQ6KzqnuvsTIIKYjjCAZ3rSGvE/78QxvRaKYtsB60t7e/OvvkVxOLDpf5ZDNc53eeqVsPgowjqenuv//+oZXd3RPffPrphFNVw3jP9pNPPZXr6Ow8snLlSrORUJUcIXMjs2dOJoUEruxVKBTWYH92a0hh48EPXyNND4CEeGeEeI86Jd6Dg4NshjsiRDtFTSDbQpKsHPiRiUg5hZ2oJUztr5FIU4Xn7rt58+bGqZvvjd4U4p3/gEFOwHu2u545mMu/886uKGwJdiynrC3ef/mFLyQ+/MADpBPe+vVX3/hG7rr8kuSFZTQT+pOzcEMcZtBDh7LTyCEE2hzKeh2PNrXtc2fxFmvdo2fPniVdZT95TdswDE620rRolwNfiB6k23xQfH6HKKAoyyqGOFgIs40OXmWSp+JgkPVgsat7Yu7PPpdYGL6fdNJ25g2642++FRnRZhxNBl/8shYXX/z0Jz9pfPrhh0kH33/uOfqnH/+YwyF71C+p1TVdxcDDF+xYkDotJUw3DhNa47Qyo6iXHTt2pOfm5g5cvHiRxAycWoG3fLGDXIQgDx4/fjxNmikzs2EW3gRKVC8dpOWqVpaGyl6D1/yX9MW2Hszv+RPj1u5PkA46/zFD7f/2z7fpQdhxvIoLr3G0tbWl71q7dvRTQrw/9uCD1Aw8y/72d77DGdKy4svfW2kNQ14wLN6HmhXeoBl4YEJrDh0dVKPY/o/5+XmjGQHnrGjr16/nWXY2FouxaGfJYaLiC3GCIJnWdA1elxuw2HqQ7x8YnRfiPf+RJDUDz7I7n/sexa9OVdWDMONa+bXh4eGUuDlw9113GSzgbFy7a5n93pzG9L9efpn+Wxy/fv31ujsrGTI2ZZrCpvG7gUee3xDWs+unrIMa9+I75bYgruVRETZPzszMEB+8bYzD6LYDnZ3iHA7noiWrV69m8xnf55pglxNmX4jT+HVLpjJ4NchqC1lqAblEYNTTH9l6UBhYa7CAL2y+h5bb780pVNtP/oraX32FhduztuAHXK+bynv7CoVCShw7WcTZvMYCvnJlseh5sTQnCzabzy6/9VaOs9+IY7zRL0g2ll5xER2kFvGjgUcmVYlBtJdHdlBJsvaamuSTmaOcgSfF9b1b/GqINmGIn/lcOWVksewjp20UP58SocCMX/KPh8kX4hZyvTfnh/aqbOU6T5p2njTrr1H1gEWczWuFvgEqdFt6wKU5ucoXm89iU1ea1oOw4WnBc17zEB1SscOiUlH2YoclZhvZX/7ylya1gL2HW2dj8YOBRzV9EKiKF+HwKBFkX4gXtGKi1fDetvFyDWmYXZe9rhZ/jdN6ECY8FW43kJ0LV8Paq7Nj8cLAU830AZbihtkMlCjzhRxtdYkqzLjtSXGyLcBf4x2hF24bGcpxZE1Thg45DDvp1Gg6qC5Vt1Bm19vI8iNkCbiOHyJSfkeHibaO10+Rg5EmJHnylsgIN+P0OpNTOaEbMX1EDSkUHALk1IvoRHyCH30hfkOXiVZ5vSSVZteOmeGQ5Ml7IiXcjFvJEXQZeEaQVOU2nFqvA86gZKGzE3mYBIq0aqItM146vjSke7ABmiNyws24GXZWQkoNGXh0mj7CAtaug03ZljJc15JmKoy5bbyU75cmmBB9QSSFm/HAJGKQJTq8Bnus1ogVpo8ScIaHEzd8IUGiXhOtF4NXeW5pcezHYNkfRFa4bWQHYropCLUMPDB9WCifg6PrdcBbnPKFBJVKJlovjZd2XyXeM03AN0ReuJkRjclaGnxfgxQDTywWG4y66QPh8OiCWbiFbaIlyxOgNVFKg+eBJE8+BcItaWadSfP7v0hWYz1GETPwIBwOVJRoyyBFbLlIaQv8GRTE/76XPEBOZibRFv0JhFvBi6IA5aYPZT3JpJAbeBS3sUmYXYMyGvGFBJ1KkSYvcjfAXxMMINxlOJ0coey9DKph+ghj6FDZymUQEqWAOhkJYWKXskjTZKWBiZtCCn9NcIBwV8Hp/YqNmD7CYOBRChtwohTMrkFThCGxi70sR5Zg1xVVc9pEi6QqwQLCXQMp3gXdyVpaMX0EaRaOtWvgJDKZUpICktilVeOlUyZaJHkKHhDuZbArjJGmWaKuyl5KWKuXXAjrNwKc4cBN/JzYRffgVaeJFkmegguEuw50mNacWqsqM/Ac9WpWW75eR1YnBcEGrjLik1rhivGS24DWNWM/90fAHSDcDSBDSg0nA1HWqB01fXhh4Clbr0M4HPgCL3whivGS28QhJ9tCKybaEY+3voLWgXA3SKMVxrwwfSjhfcfEFOFwEARGSrXCHfOFeGm8bNREO4KkKqEAwt0E0hSTWK4T8IPpQ54rH1my1rKa7lRgNgNBRhlsFsjaimhSk/ipLdRrotXlrwHeA+FuEsUQM1beAfjR9FFm4GkodOjkeh0AbtPKljK/RppqmWhlf8Rr4ljPDgkQ7haQjYVDT++vMwXB9FGPgUdZr9tIVmeQJQBCRj2+ECXcbpCPjZeVTGvLJXkCwQTCrQF7nUkegTF9KAYe7pjGZMrVJCENKYgYZWa24izcDa+IE9gmWrLOG5W9QgiEWxOisUzwrWgkuyhgyA7KLnJielXYAAA/INoD18U2yBK+PQHNVBjY/ggsD4RbA7bpgyzhC9KMO0ml9bpxZcbNR8sGHgCCgmI2M8hqC9lWfCFeosy4DXEMjmvO/Ai8B8LdApVMHzqSIziJPOckWdtjTKriNG/FwANAUFC2ctWseT3ik8Qutajkr6llogXBBcLdJLVMH8rofdwvjaWV7SsjHiR2AcApFOPlGpKz6waea1CZL4R8QK3KXpVMtCDYQLiboN7KXjJkRV6GznVuX6lk4CEAAoLmtmA7zXeSlWp4nDyi3iRPMmqQ8/JcgR4g3A3SaOYhmQDF1XUmZXbN+csdqXmtVimjFhO7AOAUIy4kSlEGBG+TJeImuUSjSZ6cqjAG3AXC3QAt5irn56ZdyFXOAwtOvTjmhph6kRMagOUom1033GabfE+DXPKFKEmeGm5zyFUefCDcdaAjqYpTprVW1ut0EwQDDwgvZcbLlsPhLZ5LkqxQup2wxSRNKP6atN/6I+AOEO5lqGX6aPL1mpq1V3idJPm0yIfymfnKwAPCiRvh8GYZ0VwrvF5/TZ2v5TsTLagPCHcNnKrs1WiFMeV5vu2gKlFWK/wYTDFAJ34evFZC9YU0E5Eacaiylx9MtKAxINxVGHG4spfsdIx6Xl+Zwbq2XqcbbCkDOnDDeOk0zfhCnK7s5YWJFjQPhLsMNyt7Lbd2LhuT5+t1OnHTwAPCQ72JUoLGcrNwNyt7uWWiBa0D4VbQYfpo4j25YbJ4H5IpRwMVDm8FOTBJkgMGHhB8KqUhpZCiRNUGSYq0F0IK01owgHBL5Ih+yKt1HlnYgOGtXKGYXdeLMmAyyUc1zIE3BG3tWidKRIoTuyTE/76HPECXiRY4A4SbnDN91PG+9lYuQxxHyAqZRTo5QqsGHhBMohRpWg7bX0OyTDB55Atp1kQLnCfywu206aPKeybJWq+7bXZt1wCOemNpxsADgoedDIQswY50tKWav8ZLX0gjJlrgHpEVbjdNH8r7paiOGYVsqBw63wvBwiw8jEQ5HF6J5Yyqyt+57gup99yAe0RSuN00fbTSQWGdaSmKgaeXUOkocCAcXplmkjzpTuxSx/stMdES8JTICbccsRpOhqLLOih7ZNzUAAHrTLdTltjlKATA3yjpP7kNjI1jq9H76Ejy5GaqYTmZMJFMyVsiJdwuJFVR1+u0zSiQHKE6SOziTxTjJbeJQxhc3Y5uEXTLF4IKY94TCeEecTipihvrdV7s6QwSSOziD2oZL4GF7I/S5GAef6d9ITDRekvohdspY4UX63UwidSHjFDwkSXUCnccrF3Xj5KzYP+4O2V3k2QNaAtkpYg1SRMw0XqHp8I9NDRkiJtkPB7nBp+Qd+fy+bwpbs1JAbXAiObKXvI1k+Txep0cTZvoIGtTZuDBljLNwBneGDorezXx3gY5FJGSofPxVtuX03oQJlwXbvHlJNvb23cXCoXUXWvXJjZt3EjillauXFl8/MaNG/TWlSt09tw5vjXFXdnFxcUj4jvLUgPorOylrNdtJKuDypLHYJ2pMUZ8WCtctIWE6KRSsVhsm7hWk+J2SYdF1rq9KR47KjqvrGgDJnmMbAtFgye1aLyMEl4leapyLknS7Atp1kSr6kG+b20i/4FBKvSvpUJ3d/Hx2Owsxa5eofgFk+JXp0xqUg/ChmvCzV9QW1vbgd/fujX54QceID5YsGvBAv7r11+nHz7/fFHExZd78OTJk5nl3kuX6UOZXZvkwxmFbYbDOlP9KAYeFiDH1hhrYbeFhYWF5PXr12lmZoZu3rxJc3NzJDql4t+Ix6mzs5O6urqop6eHVq1axb9nRRs4Uk8b0I29pkkIhzeM7I8m/faZlZnZWv5OGzHR2m1g8fc+lFwY3kELw38gBHug5nOEcFP8zG+o4+gLRRGvVw/CiOPCzeEP8QUdFiKd/OJjj5EQbmqGn770ki3gGdG5Haw0+9Bh+gjaeh2KAjSHMnPknNDH3JiF252VEOrkpUuXioLdCH19fbRu3ToWcFO0gV1uzMARDm+eIHlSZEQqSS36QpYz0dp6kO8fSM498nla3HwPNUP7z7O2gFfVgzDjqHCLL2lIfEkv7nnoIeOzjzxCOviREG8h4KYIMe555ZVX3l/zaNX0EeQOCskRWsNJA4/N8PDwAdHBpN98802anp6mVrAFvKOjIy1mHNqXSmA2ax0n/DVuoMMXUm3AYuvB/Ef/2Jj701HSQcf4Cyzgt+lB2HFMuPlL6u3tnTjwpS8lmp1lV+MXL79M3/7ud3Ozs7O7+Mtq1vQhO6gkWdsmTAq4A3kEyRFawikDjxDtw++++27KNE26desW6UCINm3atIm6u7szJ06c2EsaGAlpzWu30emv8ZJWfSGqiZb1IL569cR7f/FEotlZdjXaT/6KOv/ub3NtN2/uiop4OyLctmg/8/TTRfOZE7B57cmvfCV3xx13ZMQ64PlGGkmYZxRSvAvjSNbSEroMPCza165dK4q2ExiGwTPwpsVbMV6uoZDXvHYDp5M8eUErvhD+PG7evDk4dfNm6uaTBxL5DxjkBPHfmtT1zMHIiLd24ZZrGBPpL3/Z+MMHHiAnYePa//3qV3Pz8/P31bPGEZX1OqWhYdbUIq0YeIRoP3v9+vX9Z8+eJSdh8e7v7x87fvz44/U+B2vXenE6yZMfaMYXYuvBe194wlgYvp+cpO3Mb6jrmwdd8394iXbh3r59++FPPfxw6tMPP0xu8P3nnqMXf/KTrJhx7Kr0uDK75rzWR6Iyo4BpTT+NGHiEaKdEWPzw6dOn33eKOwU70Lds2cLh88fFmnfVyBPWrp0hSCY0XSgDv7fJqhdgVvo71oNbuz+RujXyCXKDzn/I0Iqf/ktVPQgLWoWbO6u777rr8N//4AfkJp959FG6MjW1S8w4svZ98sLiECCnXozszBMVxvSzXE5oe5bx2muvGbrWtJdDrHWzeOfEIGGjmG0sudbLZte4FjQS9S2ZtXwhrAeFgbWHZ7/1PXKT7ic+T23TV5foQdjQKtxidHXui489Znz0wQfJTThk/sRTT2U3bNiwh7BedxsjqDDmGJUMPDzLmJ6edmxduxri+qeBgQHe25ouM14iHO4Afkqq4gfKfSEXLlyYmHvkz435jyTJTWTIPNSzbm3CzXtU169bN+H2bNvmyaeeovNvvnmop6cnjQ7qdmRyhESYTDN+wp6Fz83NJa5cubJPzLbJrdm2DYfM77333tzv/M7vHFyxYgXC4Q4iB8P4fCvAbWFmZiZ9rX3FqNuzbZuub6ap/X9Oh3bW3UaaEJ3Fgc898siQUy7y5Xj3xg362S9+8fLExMQ4gds4I9i8eXNOHM+K45T4FYMbjfDnKY5sX1/f5qmpqY+3ule7GQqFArW3t98hbv9NtIO/FudjEtAKRzJE+/lbsnImYMmhAtwW7rzzzt23PpkacspFvhyx2RsU//Wr1y9duvSvFELipI+k7v3ajcApVGOxmJ5d/SFFrsWy83ifnCECzSwsLOz2QrRtOIWqaAe7CWhHthkOi8PwuTzJhc0fIq/gFKph1gMtws37tu9au9ZYLve4k/B7c9GS++67b5BAVXgZQRws3iMyfA40wUVDxE2y0VSmOpmdnWUXe1KeC9CEXL9NibaTwlJcbVgP8v0DxnK5x52E3zvfNxBaPdAi3GJtzfAqRK7C5yBGWaHeBqALaagxRId0gIAuhrwUbYa3nnGxEhEyHyKgBWlCGxr3oBxnEGE9yG8wyGvyg0Zo9UCLcIs1NU9n2zbyHDDTqBMp3kflljHQIvF43HDbkFYJnnXn83mDQEvwerZsG8fgHK8f1gMuzen5efQVZ/yh1IN20kPCrqftJXwOHR0d22RYqxI5eQSVnO4wHRtsxOeVE8eLhLW7VjF4tus1cvBgEGgap5OqhMRjYlS68/Lly9vmZT1tLyl0FzUJwh0Qam1xMyjYX2RC7s91Ak5Uw/t/uULWeQINc/Xq1Z3kE7q7u3fKLUugcbbJW24TKYesICYFH7PK/Y6Xi446uoQ7d+PGDfIaPgcx25jE3srmscPmCA02zvDwcJqsBBSeI8Llx7Am2ziysheSFbWAaAdDsdlZzx3dvCWMgh1hrYqu7WC5t65cIa/hc4jFYiaBppEdlikNOaAxzM7OTvIaLvlJ4ZjRuQoPWoVoIxNa6+RiV73Xg9j0VGj1QItw5/P5LJfZ9Bo+h8XFRZNAS8h63mxaG3MwNB864vG42dXVRV7Dgwc+FwJ1IU1oLNbjyCzYOqwH8QsmeQ2X+gyrHmgRbi6hJma7ns66+b0vv/WWKc4F2Yw0IA053JkdRrKW+lhYWJhk0eTUo17S09NTPBcCy6IkVUnDmKkH1oP41Skx654ir4iLGX9s6kpo9UBb5jQRYjryi5dfJq849frrHBbJEtAGd2Ti4MItI7IKEqgBV+USop3t9tBRu2rVKr7JllcIA7eDpCrOwXrQfvIV8or4mTdCrQfahFuE5sa9FO4fPf889fb2nsfsUD9yzW8E+72XR3RYR8V1SF7R399f7DQJ1ARJVZyDlx76+vp621/9FXlFx9EXWLhD2w60CTdXYfn1669neebrNv/+0kvFMPnq1asz4tf9vA0GAq4X2cFNyjKWoApifS8jxDPnRbicTWmiwyyuMRKoitwmdwomNL1wBEN+tqmVK1c+3nbmjSyX2HSb9p9ni2Fy1OOukx07diTXDgy4XtrzM48+ysK99+TJkxn7vkp1kkHryAHRs4RkLVXhbWFTU1MHLly4QG5iGAYLd+bEiRN7CdyGNFrytXsQ164eyuq+m2QZ/IrLDqwHi339E26X9ux+4vMs3Ev0IGxo3yi/ffv2iZGHHkp+7pFHyA04RP7D55+v2lnZdZLFwcnm0WA1IBsrZ5U6hM/zdrjAh5hxnzt9+nSC04+6Ac+2t27daorZ9i42BxFYguwHeKknjfXs1pF9QIqshFZV65KzHsx/7I+Sc59MkRtwiLxj/IXQD161C7fotAyx3j3xra99zdjmcJlPXlNPf/3rdXVWsuEmyZqFZ5GkpXXkmrcpt48BBTHr3j8/P//sG2+8USz84SQclr/nnntoxYoVoZ5lNIusgmcgNN460tDHnycPfsaWGwTZevDel9LGosNlPtkM1/mdZyIxeHUkNd39998/tLK7e+KbTz+dcKpqGO/ZfvKpp3LX33lnV6OWf3nx8WGSJeImgaaQ4t0rPsODBJYgZhtj09PT+0zTJCfZtGkTJRKJQ2KWAfNgGfL6zGG5rHnk7JrNfGvICoVnG3h6UQ8Wu7onbj751UT+AwY5Ae/Z7nrmYC7fhB4EEcdyytri/Zdf+ELiww88QDphA9xffeMbTYm2ihI+41EjX5DY+9oE8nPkUXgGYcilCPHOCPEedUq8BwcH2Ul+RIh2isD7SLHhto123STKBIfbdEtt2xbvuT/7XGJh+H7SSduZN+iOv/lWZESbcTQZfPHLWlx88dOf/KTx6YcfJh18/7nn6J9+/GMOh+zR+SXBzNYaMK1Vh8VbrHWPnj17lnSV/eQ1bTaj9fT0QLTLcLqyV5gpW7ue1LkMZuvB/J4/MW7t/gTpoPMfM9T+b/+sXQ/8juNVXHiNQ6zBpe9au3b0U0K8P/bgg9QMPMv+9ne+wxnSsuLL3+vUGoZiZuMLdwwNvzFkaDKLWc5SduzYkZ6bmztw8eJFEjNwagXe8rVhwwZqb28/ePz48TSB95GJgjj6MzaO6E/d1Gs2axVbD/L9A6PzQrznP5KkZuBZdudz36P41SlH9cCvuFZ+bXh4OCVuDtx9110GCzgb14SY13wOpzH9r5dfpv8WB+8Rj8ViB93amycvZO4AuMTfMRiw6kfu5USFpTJso878/LzRjIBzVrT169fzLNvVthAUZGWvNbju6kdnOLwRbD0oDKw1WMAXNt9Dhf7aesApVNtP/oraX32FhTvSbcD1uqm8t080rpQ4drKIs3mNBXzlymLR82JpThZsNp9dfuutHGe/Ece4l18QzGyNI528g+KzOkRgCdxpiWt6VITNkzMzM8QHbxvjMLrtQGenOIfDuWjJ6tWr2XzG90Gwq4AdDvWjmM0McRzxcoeNqgcs4mxeK/QNUKHb0gMuzclVvth8Fpu64gs98AOeFjznNQ+xNmGIL80gK0TD8IgvJzqt7C9/+UuTfIRiwnI0nBQWsHe2NnIGnhQd0W7xa7EdiJ+L7YBrQhOXR4zFsuLnU5yRDfnHbwdJVepH2cplkg+NpEHTAy/xVLiDjDSz8XraJMxs1YFRCDiFvLbS4tiPgWFl3Fq7Bu4C4W4RxczGZCBOlZEDHRMdB9CBvXyFIiGVkSa9pPwVZtGQAeHWiBSnnWSZ2TIEloBkLUAHsrJXDCa02/HKbAbcBcLtAErjeVscRzELL2HPBNDpgmbAdsPbUcLhBjWR2QwEDwi3gyA/emWQrAU0CrwStyMnCKPiOE/Ytx4pINwuIbdH8ZElpfRdVEGFMVAvSKpSAmYzwEC4XaYsP3rkzWwoAgFqgaQqFli7BioQbg/BljIL+Tn0IlkLUMGgDoINKgPh9gFKKLCXIho6VrbVYa0u4kS9shfC4WA5INw+IupmNpjWQJRNaDCbgXqBcPsUJT0hzzgilR8dW36iSRS3CmIrF2gGCLfPUdI6mhQhMxsqjEWLqCVVwdo1aAUId4CQJi6DrNShGQo5snMz4DgPN3KQFvqlITm7TpI0pJL1P0OwQcNAuAOIYuTijmAszLNwJN4IL1Gp7AWzGdANhDvAKGa2bWSlVs1SCEGylvARhcpefi+jCYILhDskKGtmJoXUzCZNa7xMME4gsIS5spccZPJ6/UayxDpLAGgGwh0yysqMhm4fLCqMBRv5/VHYTGgwmwE3gXCHmLBmZkOFseChrPOGZpsf1q6BV0C4I0DZLDwUW8qQrCU4hM1gKP8fXruGYANPgHBHCDlD4A5nJ1lmtkCvFSsznnGItz8JU2UvhMOBX4BwR5QwmdnCum4adMJQ2UsxmxniOILZNfADEO6IE5b86LLe+SAqjPmDoO8AUPKGnyLMroHPgHCD95FmtiRZAp6hgKHUOk+jo/UGOUNNUwATA8FsBoIChBvcRpDNbDCteUdQk6oo6/B8zihuA3wPhBvUJKhbylBhzF2CmFQFZjMQVCDcoC6UTu5tshzpJvkcWbyigGQtzhKkyl4oownCAIQbNETQzGwyDDoUpgQ0fiIolb3kwJMHGGw2C/zWNBBtINygaaSTO0lWicJxv3aGWPfWTxAqe8FsBsIKhBu0jOLmttcKTfIZqDCmD7+797F2DcIOhBtoRZrZDLL28GbIZ6DCWGvIKIvhx/VseW68NGKSjyNAALQKhBs4grLFppd8NsuV4l1AspbGkJ9bzk8DMoTDQRSBcANH8auZTSkUgVDqMkhxZNH2TZlYGQ63917DbAYiBYQbuIbf8qPDtLY8fqrspeQNX0PYygUiDIQbuI6SYcskH8zikKylMn6p7AWzGQBLgXADT/GLmU3uR84FIYmIG3idVEUpQWuQlbUPZkIAJBBu4AuU/OjcYXtSoAIVxixkBGLSi1A0zGYALA+EG/gKxcy2TRzH3J5pRbnCmJdJVRAOB6B+INzAt3hlZvOTIcstvKjspZjNeC39EGbXANQHhBv4nrIyo66FT+X6uxl2QXG7shdm1wC0BoQbBAq3y4zK9d7esFYYc8uEhrVrAPQB4QaBpGwW7mh+dLktKhk2x7kb2+CURDcs2L5J4AJAkIFwg0CjbBvaSZaZLUMOEKZkLW6s4SMcDoBzQLhBaHDazKak/vRlBbR6cDKpihIO5x0BRxAOB8AZINwgdDidH92PxTbqYc+ePaOFQmGN7pC/HDCNiuMUYXYNgONAuEGokUlV+MiSxlKP0iTXG5RkLboHGzCbAeAdEG4QCZwwsymv2VTYeWhoKBGPx1OxWGybmAknxS2LYEI+zK9n8iEeO5rP57OTk5MmNYjuyl5KqD0nX9MkAICrQLhB5NC5pawZ05oQ7GRbW9uBhYWF5PXr12lmZoZu3rxJc3NztLi4WPwb8Th1dnZSV1cX9fT00KpVq/j3rBDxIydPnszU8z46TWgwmwHgHyDcILIos8cCWWYqk5qknq1VtmALoU5eunSpKNiN0NfXR+vWrWMBN4XA76o1A9exhQ3hcAD8CYQbRB5dZrZaFcaGh4cPCLFNv/nmmzQ9PU2tYAt4R0dHWsy+D1Y4j5aSqsjZNb8Gm83GMLsGwF9AuAFQkKLFs3CeOTe8pUw+31BD8EK0D7/77rsp0zTp1q1bpAMh2rRp0ybq7u7OnDhxYq/y/mlqYvChzK4NstauswQA8CUQbgAqoFQJs9d0zQafW1xb/u1vf3vg2rVrRdF2AsMweAae2bBhw+PURGUvrF0DEDwg3AAsgzSzGWQVHMnU+ZzE1NTUxOXLl4fOnj1LTsLiPTg4mFuzZs3GeoRXzq6TJA16ZM3QIdgABAQINwB1omz/GqRlZrYiPJ4SYfHDp0+fft8p7hTsQN+yZQuHzx8Xa95V17VhNgMgHEC4AWiQ5cxsQ0NDhhDTiddee83Qtaa9HGKtm8U7JwYJGycnJ3Nl55uk0t5rmM0ACDgQbgBaoFJ+9O3btx+enp52bF27GmKdmwYGBg6KWXdazq7ZGb6RrLXrLAEAQgGEGwAN2Ga29957LyfWtg+I2Ta5Ndu24ZD5vffem/vd3/3dQ+3t7TCbAQAAAMvBa9uGYXBCF08OIdoFcQ77CQAQWuIEANBGLBYbbTXBSitwClVxDrsJABBaINwAaIKLhoibZKOpTHUyOzvLLvakPBcAQAiBcAOgjyEvRZvhrWdcrESscQ8RACCUQLgB0EQ8HjfcNqRVgmfd+XzeIABAKIFwA6APg2e7XiMHDwYBAEIJhBsAAAAIEBBuAAAAIEBAuAHQh9nZ2UlewyU/ycrkBgAIIRBuADQRj8fNrq4u8hoePPC5EAAglEC4AdDEwsLCJIsmpx71kp6enuK5EAAglEC4AdAEV+USop3lSl1esWrVKr7JllcIAwCEBwg3ABopFApHe3t7ySv6+/v5HI4QACC0QLgB0Eg+n88I8cx5ES5nU1pfXx+fQ5YAAKEFwg2ARjhEHY/HD61fv57cRr5nRpyDSQCA0ALhBkAzYsY7tnbt2pyba908277zzjvNxcXFgwQACDXe2l8BCCGXL19+b926dXNirfvjXOJTrDmTk3BYfsuWLXz7+KuvvpolAAAAADTO9u3bxwzDYNV29Ni0aVOB34sAAAAA0BpCUDNOivfg4CCLdoYAAAAAoAcWVhHKLoh1aG2Cza/1wQ9+EKINAAAAOMGOHTvS9957b6Gvr69l0ebXGBoaKvBrEgAgcsQIAOAKQmyNeDw+MT8/b1y8eJHYuNYInBWNt3z19PRkY7HYwePHj2cJABA5INwAuMzw8HBKCO/orVu3kjMzM8TH7Owsid9pcXGx+DfsFOctXly0ZPXq1ZRIJPg+CDYAAMINgFfIGXhSiPFu8atRKBQM8XOCHxM/c67xnPg9K34+xRnZkH8cAAAAAAAAAAAAAAAAAAAAAAAAAAAAAAAAAAAAAAAAAAAAAAAAAAAAAAAAAAAAAAAAAAAAAAAAAAAAAAAAAAAAAAAAAAAAAAAAAAAAAAAAAAAAAAAAAAAAAAAAAAAAAAAAAAAAAAAAAAAAAAAAAAAAAAAAAAAAAAAAAAAAAAAAAAAAAAAAAAAAAAAAAAAAAAAAAAAAAAAARJwRcbwqjwMEgkZCHEkCXsCfPbeb/QTcgj9zQ94C7zDE8aI4JsRxWByJuHygII5Bcg7+4kdqPM4nlKLg86JyZMj6v9T/2xDHHnHcR+H4f8NGpXaQFMc55ecXazz/HFVvRymyGp1Oar1fkGBB5rZitx3+2Sj7Gx7o5ggi4hb8efP1xd/F2yQFo87nDslDByM13jdN+tuUF/BglK97bgcZsj7zfcrj/FkeEccuccT49zi5A3/wz1L44Y7lqDgOkdVRm2RdeHbnOibv4y8lSyBojItjDQHdTIrjGFkdGLcd7qTU/iJFVod1hIAbsGhzv7VROfjzr1ckR6j2RK0R+DropXDD+sjXPreDFFkacZ1K0aVxeRhkaYlZSbhZ7e3RVnlI155BVnpsjJZ+WfvlYVBpBM3Pa3Qktk8+/5zyOnbYTB2JpcgagZF8j/LnkHIufDHwKNKN2UqWrBm2DX9mSXE8TiBoJGlp58XX5jl5lC99GLT0GiyfNajPVWcz3GaepcrXbyNUen1uF6+W/R2/l91u7aUc+zmGcv9h5ZzcgDsubp983vzZmuLYKY5thFm3k/BnmyYrMpiT95lkXZdJKvWZ5dEevjaG5N/to1K/zYzR0n5cvbaStLRNGcrz7Gs/S40vkRjK+/E1bV/j/F6pCn/HJOTj9nPUv1N1I0XOkyXrWrfhz5Zn5XupinAbZDUaHmXxl8cf2KDyGH8A98nHRqj0gSZoaYOyfzfJmuKb8jUnqTH4PR6Xzz1F1kXAF5Q9QrexZ7EJ+Q8elM/hUbracSbl6/DM6Tw5T5JK/zN3QCmyZuW1QkDAO/iaMZSjfLRvyFu7k9pFpRmJofwddwDH5GPc2FRhT5Y9l9ubPcO0l5X2Uumab7TTSlKpndrnZo/oc7R0nT4l7zfkOdjve55KHaot+nabchr+zAep1D75ffm8Y8r5AGfg7zlLVn+tYkcTd8nfjbLH+Xf+Xrh/PiQP+2/5/hRVvraqvRZRSTeS8nUbIS3P19Yx+/1YD0aVv9tPpf/1WXlu9nPsSZZ9TrYuZsh5+ByPyZ+5LbOGHZXnM9Re5UlZeWuS1ajtD5vJkPUl8sGCyv9sox9qI6gXCo+E7FHIOJU6Q36ML44sWf+kKQ9D3rdP/pyT92fIWfYr71kcIcn7+YtwY7AAmoev55zyezWRSJHVOZnyd3tWYT+HO0D72uW/4Q7DHgTso1KbMai0rrVX3ndUed0sLV3vqocslQaxBi1du7cHjVn5PxyT7zVGpbZtyJ/3Uen/P0/OL++MUWnAv0fel6NSe81SaTIAgoV6TafJmrk6OQBLyVuDSgMBbgOsZ0Pyvfna2k1WO7UHzPcpf5+hUlthxmlp36Abe1bNt4eodN2bVBahrSbcb1N11FCZSc5++Pbs2aDbZ+pZskZR/GWoH+6Q/Ht1ROfkh10J7oB4xMQzhSSVzj1LwO/wtaQOrpJUeW3Pbvg2OeV3g24XF74GdirPTdHSpaXJsteq9HO9GFQKR07SUrHLkNWG95PVaY0r58S/J6nyOdXqE3SRlscxqtyvmAScxh64VWKQmu9LzQrv4+TaNQ8698v3KW9bPIhOkdUf25M5g0qhcpWjys9OtwE+z/Py/HaW3b9E/9qpcdTZt0GlL4Q/AN0inqRSeML+XQ058j/IsxQWSXV2w//kHuXv7E7WIPfgc0tSaZ3O7cEDcJby6ymh/G5SqSOwv3e1IdqNM0POwB0Wt4Fdyu92pMruyHjQMERLZ7Z8TmnyDnsJzCSrne8h4Da2QCRp6UTDoFIYnSnvz5br+4cq/P31Cs81qHX49dJk6YZ9nuogeZys64vbxCF5nz3w3kXeMkZW1I+XyJJUZbLXjKs8TSW7P49Ojsj7+QvfR6X1td1lz0vIx6p9wYZ83D74d/4gB6kU7igPGWaoZFwx5X3jVFp/tF/zHLm/LpaVt/z5RMFRHzUyVLreDSptVyIqieMBWnpdq8/lx+zokG1Ga4b7aGm7UQcLdsi+vN1wJIjbbla5z44SJan0/7xK7sPnwX2H14OIKMOTIdvExdcP9+d8fbLI2dcWX9/75ePl/ZvdbyeV+9Rri/9+nErtZEi+Fz9+oMJr8QCuWv9t64p9DCnPM6i0o0l9fpZK7TKr/H1W/q2tb6wbI+QufB5H5S1/ZjV1SzVvvVj2x9yQ7A+D/5Gk/PtKyRDS8jG+TdFS911KPpak2xmTj6lHUnlNe58nv0b5RVLu/mMMsjrHV6m0ZmDfXynsqYuxsvdLUGlv6hABv6O2Axt7gGr/rF5/dodmtwW17fBthkrXYIqWthf7udym+Lox5P0pWno9V+oYbew9z+qRKHvvCSrt8CDl3Djsl6Tb/1f7nOwlKvtc95Nz2G3E/uySyn3AGwwq7S3m22SVx/mwr32138tQqd1k5N/wrX29q+3Mbgv2+6h9tH1NVrr+UnT79b+/7DXP0e1tk0lTaZmIlPMeo6Xtxqb8+TpJUekzssnI99QycCjfAuA1BlnnZBAAoF4Mcm9bFwAZ8l/CKW2i6AVuJWBxAh6d8MiIQ2omAQDqgWczPJtAHgEQRZJUygEyThHBIP/AH7xBAIBGsEPpALiFn665UOjG/wch/GT1sDr0dQAAAABJRU5ErkJggg==)"
      ],
      "metadata": {
        "id": "QtW3oyo31Qem"
      }
    },
    {
      "cell_type": "code",
      "execution_count": 1,
      "metadata": {
        "id": "QMFt-JtREcOu"
      },
      "outputs": [],
      "source": [
        "import torch"
      ]
    },
    {
      "cell_type": "code",
      "source": [
        "class DenseLayer:\n",
        "  # Layer initialization\n",
        "  def __init__(self, n_inputs, n_neurons):\n",
        "    # Initialize weights and biases\n",
        "    self.weights = 0.01 * torch.rand(n_inputs, n_neurons)\n",
        "    self.biases = torch.zeros((1, n_neurons))\n",
        "\n",
        "  # Forward pass\n",
        "  def forward(self, inputs):\n",
        "    # Calculate output values from inputs, weights and biases\n",
        "    self.output = torch.matmul(inputs, self.weights) + self.biases"
      ],
      "metadata": {
        "id": "XGmcRtWPEmxV"
      },
      "execution_count": 2,
      "outputs": []
    },
    {
      "cell_type": "code",
      "source": [
        "class Activation_Sigmoid:\n",
        "  # Forward pass\n",
        "  def forward(self, inputs):\n",
        "    self.output = 1 / (1 + torch.exp(inputs*-1))\n",
        "    return self.output"
      ],
      "metadata": {
        "id": "ukYMZz-VEtu_"
      },
      "execution_count": 3,
      "outputs": []
    },
    {
      "cell_type": "code",
      "source": [
        "class LinearActivation:\n",
        "\n",
        "    def forward(self, x):\n",
        "        # Linear activation: f(x) = x\n",
        "        self.output = x\n",
        "        return self.output"
      ],
      "metadata": {
        "id": "JPvUmQxaE0tc"
      },
      "execution_count": 4,
      "outputs": []
    },
    {
      "cell_type": "code",
      "source": [
        "def mse_loss(y_true, y_pred):\n",
        "    return torch.mean(0.5*(y_true - y_pred) ** 2)"
      ],
      "metadata": {
        "id": "RYa6tSdFG9Gz"
      },
      "execution_count": 5,
      "outputs": []
    },
    {
      "cell_type": "code",
      "source": [
        "X = torch.rand((5, 2))\n",
        "y = torch.rand(5,2)\n",
        "\n",
        "(X, y)"
      ],
      "metadata": {
        "colab": {
          "base_uri": "https://localhost:8080/"
        },
        "id": "-7Ne9p7gHQXV",
        "outputId": "1f411d32-ad6e-4f41-85cf-24d861212518"
      },
      "execution_count": 6,
      "outputs": [
        {
          "output_type": "execute_result",
          "data": {
            "text/plain": [
              "(tensor([[0.0374, 0.7699],\n",
              "         [0.2442, 0.1395],\n",
              "         [0.9366, 0.8657],\n",
              "         [0.9165, 0.4950],\n",
              "         [0.4789, 0.4334]]),\n",
              " tensor([[0.5300, 0.3958],\n",
              "         [0.6584, 0.7166],\n",
              "         [0.7443, 0.8013],\n",
              "         [0.3788, 0.6159],\n",
              "         [0.9728, 0.9570]]))"
            ]
          },
          "metadata": {},
          "execution_count": 6
        }
      ]
    },
    {
      "cell_type": "code",
      "source": [
        "hidden_layer_1 = DenseLayer(2, 4)\n",
        "activation_1 =  Activation_Sigmoid()\n",
        "output_layer = DenseLayer(4, 2)\n",
        "activation_2 = LinearActivation()"
      ],
      "metadata": {
        "id": "iJrY4jPfVooQ"
      },
      "execution_count": 7,
      "outputs": []
    },
    {
      "cell_type": "code",
      "source": [
        "def forward_pass(X):\n",
        "  hidden_layer_1.forward(X)\n",
        "  activation_1.forward(hidden_layer_1.output)\n",
        "  output_layer.forward(activation_1.output)\n",
        "  activation_2.forward(output_layer.output)\n",
        "  return activation_2.output"
      ],
      "metadata": {
        "id": "drn_h59MWXeU"
      },
      "execution_count": 8,
      "outputs": []
    },
    {
      "cell_type": "code",
      "source": [
        "def back_prop(fp):\n",
        "    learning_rate = 0.01\n",
        "\n",
        "    output_error = fp - y\n",
        "    output_delta = output_error\n",
        "    hidden_error = torch.matmul(output_delta, output_layer.weights.T)\n",
        "    hidden_activation_derivative = activation_1.forward(hidden_layer_1.output) * (\n",
        "        1 - activation_1.forward(hidden_layer_1.output)\n",
        "    )\n",
        "    hidden_delta = hidden_error * hidden_activation_derivative\n",
        "\n",
        "    # Update output layer weights\n",
        "    output_layer.weights -= learning_rate * torch.matmul(\n",
        "        activation_1.output.T, output_delta\n",
        "    )\n",
        "    output_layer.biases -= learning_rate * torch.sum(output_delta, axis=0, keepdim=True)\n",
        "\n",
        "    # Update hidden layer weights\n",
        "    hidden_layer_1.weights -= learning_rate * torch.matmul(X.T, hidden_delta)\n",
        "    hidden_layer_1.biases -= learning_rate * torch.sum(hidden_delta, axis=0, keepdim=True)"
      ],
      "metadata": {
        "id": "uwCwu9e6XB9-"
      },
      "execution_count": 9,
      "outputs": []
    },
    {
      "cell_type": "code",
      "source": [
        "loss = 0.0001"
      ],
      "metadata": {
        "id": "upNUHQKxXOSK"
      },
      "execution_count": 10,
      "outputs": []
    },
    {
      "cell_type": "code",
      "source": [],
      "metadata": {
        "id": "CwUquy_R1Mku"
      },
      "execution_count": 10,
      "outputs": []
    },
    {
      "cell_type": "code",
      "source": [
        "y_pred = forward_pass(X)\n",
        "err = mse_loss(y, y_pred)\n",
        "print(\"Initial loss:\", err.item())\n",
        "print(\"Initial prediction:\",y_pred)\n",
        "while err > loss:\n",
        "  back_prop(y_pred)\n",
        "  y_pred = forward_pass(X)\n",
        "  err = mse_loss(y, y_pred)\n",
        "print(\"Final loss:\", err)\n",
        "print(\"Final prediction:\",y_pred)\n",
        "print(\"Target value:\",y)"
      ],
      "metadata": {
        "colab": {
          "base_uri": "https://localhost:8080/"
        },
        "id": "DQrDSDJUXSCQ",
        "outputId": "f9755e69-1911-463b-e921-c482c6990fb8"
      },
      "execution_count": 12,
      "outputs": [
        {
          "output_type": "stream",
          "name": "stdout",
          "text": [
            "Initial loss: 9.998158930102363e-05\n",
            "Initial prediction: tensor([[0.5294, 0.3981],\n",
            "        [0.6772, 0.7247],\n",
            "        [0.7535, 0.8158],\n",
            "        [0.3794, 0.6139],\n",
            "        [0.9449, 0.9346]])\n",
            "Final loss: tensor(9.9982e-05)\n",
            "Final prediction: tensor([[0.5294, 0.3981],\n",
            "        [0.6772, 0.7247],\n",
            "        [0.7535, 0.8158],\n",
            "        [0.3794, 0.6139],\n",
            "        [0.9449, 0.9346]])\n",
            "Target value: tensor([[0.5300, 0.3958],\n",
            "        [0.6584, 0.7166],\n",
            "        [0.7443, 0.8013],\n",
            "        [0.3788, 0.6159],\n",
            "        [0.9728, 0.9570]])\n"
          ]
        }
      ]
    },
    {
      "cell_type": "code",
      "source": [],
      "metadata": {
        "id": "YNJ2bEL_Xozk"
      },
      "execution_count": 11,
      "outputs": []
    }
  ]
}