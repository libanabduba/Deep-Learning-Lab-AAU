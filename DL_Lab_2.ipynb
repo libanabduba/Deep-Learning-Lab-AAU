{
  "nbformat": 4,
  "nbformat_minor": 0,
  "metadata": {
    "colab": {
      "provenance": [],
      "authorship_tag": "ABX9TyMtYBiAeG4eVyeFIZjIe/RA",
      "include_colab_link": true
    },
    "kernelspec": {
      "name": "python3",
      "display_name": "Python 3"
    },
    "language_info": {
      "name": "python"
    }
  },
  "cells": [
    {
      "cell_type": "markdown",
      "metadata": {
        "id": "view-in-github",
        "colab_type": "text"
      },
      "source": [
        "<a href=\"https://colab.research.google.com/github/libanabduba/Deep-Learning-Lab-AAU/blob/main/DL_Lab_2.ipynb\" target=\"_parent\"><img src=\"https://colab.research.google.com/assets/colab-badge.svg\" alt=\"Open In Colab\"/></a>"
      ]
    },
    {
      "cell_type": "code",
      "execution_count": 1,
      "metadata": {
        "id": "QgIaExvHcp9R"
      },
      "outputs": [],
      "source": [
        "import torch"
      ]
    },
    {
      "cell_type": "code",
      "source": [
        "torch.manual_seed(27)"
      ],
      "metadata": {
        "colab": {
          "base_uri": "https://localhost:8080/"
        },
        "id": "90VH4iHdc0Mk",
        "outputId": "007080d6-ea71-48f8-e806-ca4b6e513c73"
      },
      "execution_count": 9,
      "outputs": [
        {
          "output_type": "execute_result",
          "data": {
            "text/plain": [
              "<torch._C.Generator at 0x781f63b43ed0>"
            ]
          },
          "metadata": {},
          "execution_count": 9
        }
      ]
    },
    {
      "cell_type": "code",
      "source": [
        "input = torch.rand(4)\n",
        "weight = torch.rand(4)\n",
        "bias = torch.rand(1)\n",
        "\n",
        "(input, weight, bias)"
      ],
      "metadata": {
        "colab": {
          "base_uri": "https://localhost:8080/"
        },
        "id": "j6coWnq2c8Sl",
        "outputId": "050fb3ce-a819-4af2-fc81-e969d61edbcc"
      },
      "execution_count": 10,
      "outputs": [
        {
          "output_type": "execute_result",
          "data": {
            "text/plain": [
              "(tensor([0.9847, 0.0852, 0.5334, 0.2196]),\n",
              " tensor([0.2617, 0.7972, 0.2088, 0.4545]),\n",
              " tensor([0.1455]))"
            ]
          },
          "metadata": {},
          "execution_count": 10
        }
      ]
    },
    {
      "cell_type": "code",
      "source": [
        "output = 0\n",
        "for x, w in zip(input, weight):\n",
        "  output += x * w\n",
        "\n",
        "output += bias[0]\n",
        "\n",
        "output"
      ],
      "metadata": {
        "colab": {
          "base_uri": "https://localhost:8080/"
        },
        "id": "7VR-QrkwdB4k",
        "outputId": "564e9c2e-6976-4afc-acd9-abe6395fa400"
      },
      "execution_count": 12,
      "outputs": [
        {
          "output_type": "execute_result",
          "data": {
            "text/plain": [
              "tensor(0.6823)"
            ]
          },
          "metadata": {},
          "execution_count": 12
        }
      ]
    },
    {
      "cell_type": "code",
      "source": [
        "torch.matmul(input, weight) + bias"
      ],
      "metadata": {
        "colab": {
          "base_uri": "https://localhost:8080/"
        },
        "id": "z13-Uf-Zd5bw",
        "outputId": "fc5df322-be83-4545-f469-ef97d89c4e58"
      },
      "execution_count": 11,
      "outputs": [
        {
          "output_type": "execute_result",
          "data": {
            "text/plain": [
              "tensor([0.6823])"
            ]
          },
          "metadata": {},
          "execution_count": 11
        }
      ]
    },
    {
      "cell_type": "code",
      "source": [],
      "metadata": {
        "id": "_5XQc5F9fUCL"
      },
      "execution_count": 13,
      "outputs": []
    },
    {
      "cell_type": "markdown",
      "source": [
        "#Layer of Neurons"
      ],
      "metadata": {
        "id": "Q307q_q9f1D9"
      }
    },
    {
      "cell_type": "code",
      "source": [
        "weight2 = torch.rand(size = (5,4))\n",
        "input2 =  torch.rand(4)\n",
        "input2 = input2.t()\n",
        "bias2 = torch.rand(5)"
      ],
      "metadata": {
        "id": "Lb_cXFAif45s"
      },
      "execution_count": 24,
      "outputs": []
    },
    {
      "cell_type": "code",
      "source": [
        "input3 = torch.matmul(input2, weight2.T) + bias2"
      ],
      "metadata": {
        "id": "maTpkxVahJ4W"
      },
      "execution_count": 25,
      "outputs": []
    },
    {
      "cell_type": "code",
      "source": [
        "weight3 = torch.rand(size = (2,5))\n",
        "bias3 = torch.rand(2)\n",
        "\n",
        "torch.matmul(input3, weight3.T) + bias3"
      ],
      "metadata": {
        "colab": {
          "base_uri": "https://localhost:8080/"
        },
        "id": "x2xBzt1Phc6o",
        "outputId": "f1a66e7f-f8fd-44e7-e4fc-3e2024e6470b"
      },
      "execution_count": 26,
      "outputs": [
        {
          "output_type": "execute_result",
          "data": {
            "text/plain": [
              "tensor([6.9785, 5.5859])"
            ]
          },
          "metadata": {},
          "execution_count": 26
        }
      ]
    },
    {
      "cell_type": "code",
      "source": [],
      "metadata": {
        "id": "X3EbEE_1kSdN"
      },
      "execution_count": null,
      "outputs": []
    },
    {
      "cell_type": "markdown",
      "source": [
        "#Layer of Neurons and Batch of Data"
      ],
      "metadata": {
        "id": "Tdg8KoNMkn7H"
      }
    },
    {
      "cell_type": "code",
      "source": [
        "input_1 = torch.rand((32,4))\n",
        "weight_1 = torch.rand((5,4))\n",
        "bias_1 = torch.rand(5)"
      ],
      "metadata": {
        "id": "3NJFyojTkp9l"
      },
      "execution_count": 29,
      "outputs": []
    },
    {
      "cell_type": "code",
      "source": [
        "output_1 = torch.matmul(input_1, weight_1.T) + bias_1"
      ],
      "metadata": {
        "id": "_Z6sFVcdmcWh"
      },
      "execution_count": 30,
      "outputs": []
    },
    {
      "cell_type": "code",
      "source": [
        "output_1.shape"
      ],
      "metadata": {
        "colab": {
          "base_uri": "https://localhost:8080/"
        },
        "id": "vnm0M1YKnLC5",
        "outputId": "a199c5f4-0823-46d5-b50d-f66f93c110cc"
      },
      "execution_count": 32,
      "outputs": [
        {
          "output_type": "execute_result",
          "data": {
            "text/plain": [
              "torch.Size([32, 5])"
            ]
          },
          "metadata": {},
          "execution_count": 32
        }
      ]
    },
    {
      "cell_type": "code",
      "source": [
        "weight_2 = torch.rand((5,5))\n",
        "bias_2 = torch.rand(5)"
      ],
      "metadata": {
        "id": "xsJHaMDsncgq"
      },
      "execution_count": 37,
      "outputs": []
    },
    {
      "cell_type": "code",
      "source": [
        "output_2 = torch.matmul(output_1, weight_2.T) + bias_2\n",
        "output_2.shape"
      ],
      "metadata": {
        "colab": {
          "base_uri": "https://localhost:8080/"
        },
        "id": "tH2W9mOInoTR",
        "outputId": "e180f865-26b3-4099-a438-ccb0ed6f13f0"
      },
      "execution_count": 38,
      "outputs": [
        {
          "output_type": "execute_result",
          "data": {
            "text/plain": [
              "torch.Size([32, 5])"
            ]
          },
          "metadata": {},
          "execution_count": 38
        }
      ]
    },
    {
      "cell_type": "code",
      "source": [
        "weight_3 = torch.rand((3,5))\n",
        "bias_3 = torch.rand(3)"
      ],
      "metadata": {
        "id": "J965j5Vrn5MF"
      },
      "execution_count": 39,
      "outputs": []
    },
    {
      "cell_type": "code",
      "source": [
        "output_3 = torch.matmul(output_2, weight_3.T) + bias_3\n",
        "output_3.shape"
      ],
      "metadata": {
        "colab": {
          "base_uri": "https://localhost:8080/"
        },
        "id": "4awzwgQloNqe",
        "outputId": "62f3f767-05d3-4186-9528-836266f143a8"
      },
      "execution_count": 40,
      "outputs": [
        {
          "output_type": "execute_result",
          "data": {
            "text/plain": [
              "torch.Size([32, 3])"
            ]
          },
          "metadata": {},
          "execution_count": 40
        }
      ]
    },
    {
      "cell_type": "code",
      "source": [],
      "metadata": {
        "id": "ek2ukZscoULh"
      },
      "execution_count": null,
      "outputs": []
    },
    {
      "cell_type": "markdown",
      "source": [
        "#Coding Neural Network with OOP"
      ],
      "metadata": {
        "id": "J8WDaOvRo1_l"
      }
    },
    {
      "cell_type": "code",
      "source": [
        "class DenseLayer:\n",
        "\n",
        "  def __init__(self, n_inputs, n_neurons):\n",
        "    # Initialize weights and biase\n",
        "    self.weight = 0.01 * torch.rand((n_neurons,n_inputs))\n",
        "    self.bias = torch.zeros((1,n_neurons))\n",
        "\n",
        "\n",
        "  def forward(self, inputs):\n",
        "    # Calculate output values from inputs, weights and biases\n",
        "    self.output = torch.matmul(inputs, self.weight.T) + self.bias\n",
        ""
      ],
      "metadata": {
        "id": "Z2yEPEn5o72q"
      },
      "execution_count": 46,
      "outputs": []
    },
    {
      "cell_type": "code",
      "source": [
        "# create data\n",
        "\n",
        "X =  torch.rand((2,4))"
      ],
      "metadata": {
        "id": "WwMjhSBypUqw"
      },
      "execution_count": 47,
      "outputs": []
    },
    {
      "cell_type": "code",
      "source": [
        "# Model Creation\n",
        "layer1 = DenseLayer(4,6)\n",
        "layer2 = DenseLayer(6, 5)\n",
        "output_layer = DenseLayer(5, 2)"
      ],
      "metadata": {
        "id": "ku50anBusGp8"
      },
      "execution_count": 48,
      "outputs": []
    },
    {
      "cell_type": "code",
      "source": [
        "layer1.forward(X)\n",
        "layer2.forward(layer1.output)\n",
        "output_layer.forward(layer2.output)\n"
      ],
      "metadata": {
        "id": "Ival4VqvsI-t"
      },
      "execution_count": 50,
      "outputs": []
    },
    {
      "cell_type": "code",
      "source": [
        "output_layer.output"
      ],
      "metadata": {
        "colab": {
          "base_uri": "https://localhost:8080/"
        },
        "id": "bqVXCCGYtE5m",
        "outputId": "19ba7c28-c1bd-4a5c-bd74-a080e4e2e790"
      },
      "execution_count": 51,
      "outputs": [
        {
          "output_type": "execute_result",
          "data": {
            "text/plain": [
              "tensor([[5.8813e-06, 8.1237e-06],\n",
              "        [6.3222e-06, 8.6889e-06]])"
            ]
          },
          "metadata": {},
          "execution_count": 51
        }
      ]
    },
    {
      "cell_type": "code",
      "source": [],
      "metadata": {
        "id": "C9r41bfJtXMp"
      },
      "execution_count": null,
      "outputs": []
    }
  ]
}