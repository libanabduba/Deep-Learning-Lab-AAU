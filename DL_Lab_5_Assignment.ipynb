{
  "nbformat": 4,
  "nbformat_minor": 0,
  "metadata": {
    "colab": {
      "provenance": [],
      "authorship_tag": "ABX9TyMzdmJ7wou82er9QTq99F55",
      "include_colab_link": true
    },
    "kernelspec": {
      "name": "python3",
      "display_name": "Python 3"
    },
    "language_info": {
      "name": "python"
    }
  },
  "cells": [
    {
      "cell_type": "markdown",
      "metadata": {
        "id": "view-in-github",
        "colab_type": "text"
      },
      "source": [
        "<a href=\"https://colab.research.google.com/github/libanabduba/Deep-Learning-Lab-AAU/blob/main/DL_Lab_5_Assignment.ipynb\" target=\"_parent\"><img src=\"https://colab.research.google.com/assets/colab-badge.svg\" alt=\"Open In Colab\"/></a>"
      ]
    },
    {
      "cell_type": "code",
      "execution_count": null,
      "metadata": {
        "id": "kyTm7aUdCjpT"
      },
      "outputs": [],
      "source": [
        "import numpy as np\n",
        "\n",
        "\n",
        "def relu(x):\n",
        "    return np.maximum(0, x)\n",
        "\n",
        "def sigmoid(x):\n",
        "    return 1 / (1 + np.exp(-x))\n",
        "\n",
        "def mse_loss(y_true, y_pred):\n",
        "    return np.mean((y_true - y_pred)**2)\n",
        "\n",
        "def relu_derivative(x):\n",
        "    return np.where(x > 0, 1, 0)\n",
        "\n",
        "def sigmoid_derivative(x):\n",
        "    return sigmoid(x) * (1 - sigmoid(x))\n",
        "\n"
      ]
    },
    {
      "cell_type": "code",
      "source": [
        "# Neural Network class\n",
        "class CustomNeuralNetwork:\n",
        "    def __init__(self):\n",
        "\n",
        "        self.weights_input_hidden = np.random.rand(2, 2)\n",
        "        self.biases_hidden = np.zeros((1, 2))\n",
        "        self.weights_hidden_output = np.random.rand(2, 2)\n",
        "        self.biases_output = np.zeros((1, 2))\n",
        "\n",
        "    def forward(self, x):\n",
        "        # Input layer to hidden layer\n",
        "        self.hidden_input = np.dot(x, self.weights_input_hidden) + self.biases_hidden\n",
        "        self.hidden_output = relu(self.hidden_input)\n",
        "\n",
        "\n",
        "        self.output_input = np.dot(self.hidden_output, self.weights_hidden_output) + self.biases_output\n",
        "        self.predictions = sigmoid(self.output_input)\n",
        "\n",
        "        return self.predictions\n",
        "\n",
        "    def backward(self, x, y, learning_rate):\n",
        "        # Compute loss\n",
        "        loss = mse_loss(y, self.predictions)\n",
        "\n",
        "        # Backpropagation\n",
        "        output_error = y - self.predictions\n",
        "        output_delta = output_error * sigmoid_derivative(self.output_input)\n",
        "\n",
        "        hidden_error = np.dot(output_delta, self.weights_hidden_output.T)\n",
        "        hidden_delta = hidden_error * relu_derivative(self.hidden_input)\n",
        "\n",
        "        # Update weights and biases\n",
        "        self.weights_hidden_output += learning_rate * np.dot(self.hidden_output.T, output_delta)\n",
        "        self.biases_output += learning_rate * np.sum(output_delta, axis=0, keepdims=True)\n",
        "        self.weights_input_hidden += learning_rate * np.dot(x.T, hidden_delta)\n",
        "        self.biases_hidden += learning_rate * np.sum(hidden_delta, axis=0, keepdims=True)\n",
        "\n",
        "        return loss"
      ],
      "metadata": {
        "id": "aFSpop1uDJOG"
      },
      "execution_count": null,
      "outputs": []
    },
    {
      "cell_type": "code",
      "source": [
        "# Example input and target data\n",
        "input_data = np.array([[0.5, 0.7]])\n",
        "target_data = np.array([[0.3, 0.9]])\n",
        "\n",
        "model = CustomNeuralNetwork()\n",
        "\n",
        "\n",
        "learning_rate = 0.01\n",
        "for epoch in range(1000):\n",
        "    # Forward pass\n",
        "    predictions = model.forward(input_data)\n",
        "\n",
        "    # Backward pass and optimization\n",
        "    loss = model.backward(input_data, target_data, learning_rate)\n",
        "\n",
        "    # Print loss for every 100 epochs\n",
        "    if epoch % 100 == 0:\n",
        "        print(f'Epoch {epoch}, Loss: {loss}')\n",
        "\n",
        "test_input = np.array([[0.8, 0.4]])\n",
        "predicted_output = model.forward(test_input)\n",
        "print(\"Predicted Output:\", predicted_output)"
      ],
      "metadata": {
        "colab": {
          "base_uri": "https://localhost:8080/"
        },
        "id": "hetGdLf5Dk9X",
        "outputId": "dcd98aa7-5d8d-4686-ef48-60f2a58eb7a7"
      },
      "execution_count": null,
      "outputs": [
        {
          "output_type": "stream",
          "name": "stdout",
          "text": [
            "Epoch 0, Loss: 0.12166674944265328\n",
            "Epoch 100, Loss: 0.09580090186965345\n",
            "Epoch 200, Loss: 0.07617349026798961\n",
            "Epoch 300, Loss: 0.06098808936398687\n",
            "Epoch 400, Loss: 0.04904336842908887\n",
            "Epoch 500, Loss: 0.039541911399181666\n",
            "Epoch 600, Loss: 0.03193784778555847\n",
            "Epoch 700, Loss: 0.0258379691245089\n",
            "Epoch 800, Loss: 0.020943854887617557\n",
            "Epoch 900, Loss: 0.017019900697867168\n",
            "Predicted Output: [[0.37711465 0.72574554]]\n"
          ]
        }
      ]
    }
  ]
}