{
  "nbformat": 4,
  "nbformat_minor": 0,
  "metadata": {
    "colab": {
      "provenance": [],
      "gpuType": "T4",
      "authorship_tag": "ABX9TyMg0gIhs6o7DFbjCHKE6a84",
      "include_colab_link": true
    },
    "kernelspec": {
      "name": "python3",
      "display_name": "Python 3"
    },
    "language_info": {
      "name": "python"
    },
    "accelerator": "GPU"
  },
  "cells": [
    {
      "cell_type": "markdown",
      "metadata": {
        "id": "view-in-github",
        "colab_type": "text"
      },
      "source": [
        "<a href=\"https://colab.research.google.com/github/libanabduba/Deep-Learning-Lab-AAU/blob/main/DL_Project.ipynb\" target=\"_parent\"><img src=\"https://colab.research.google.com/assets/colab-badge.svg\" alt=\"Open In Colab\"/></a>"
      ]
    },
    {
      "cell_type": "markdown",
      "source": [
        "# **Seeding for reproducibility**"
      ],
      "metadata": {
        "id": "qsVRVmWMqOPx"
      }
    },
    {
      "cell_type": "code",
      "source": [
        "import torch\n",
        "torch.manual_seed(0)\n",
        "\n",
        "# If using CUDA (GPU), set seed for reproducibility on GPU as well\n",
        "if torch.cuda.is_available():\n",
        "    torch.cuda.manual_seed_all(0)\n",
        "\n",
        "import numpy as np\n",
        "np.random.seed(0)\n"
      ],
      "metadata": {
        "id": "klZKpgS7qUJy"
      },
      "execution_count": 17,
      "outputs": []
    },
    {
      "cell_type": "markdown",
      "source": [
        "# **Importing the dependencies**"
      ],
      "metadata": {
        "id": "dJwkmbzFqv2f"
      }
    },
    {
      "cell_type": "code",
      "source": [
        "import torch.nn as nn\n",
        "import torch.optim as optim\n",
        "from torch.utils.data import DataLoader\n",
        "from torchvision import datasets, transforms\n",
        "import matplotlib.pyplot as plt"
      ],
      "metadata": {
        "id": "eZHQ94cdqyAA"
      },
      "execution_count": 18,
      "outputs": []
    },
    {
      "cell_type": "code",
      "source": [],
      "metadata": {
        "id": "8Tp74gPlrJWF"
      },
      "execution_count": 18,
      "outputs": []
    },
    {
      "cell_type": "markdown",
      "source": [
        "# **Data Curation**"
      ],
      "metadata": {
        "id": "fUut6Bntu9mJ"
      }
    },
    {
      "cell_type": "code",
      "source": [
        "# Load the Fashion MNIST dataset without normalization\n",
        "train_dataset = datasets.FashionMNIST(root='./data', train=True, download=True, transform=transforms.ToTensor())\n",
        "test_dataset = datasets.FashionMNIST(root='./data', train=False, download=True, transform=transforms.ToTensor())\n"
      ],
      "metadata": {
        "id": "8codPXOUvN1t"
      },
      "execution_count": 19,
      "outputs": []
    },
    {
      "cell_type": "code",
      "source": [
        "\n",
        "import matplotlib.pyplot as plt\n",
        "# Print the size of the training and test datasets\n",
        "print('Train dataset size:', len(train_dataset))\n",
        "print('Test dataset size:', len(test_dataset))\n",
        "\n",
        "# Print the first 4 images and their labels in the training dataset\n",
        "plt.figure(figsize=(10, 10))\n",
        "for i in range(4):\n",
        "    plt.subplot(2, 2, i + 1)\n",
        "    plt.imshow(train_dataset[i][0].numpy().reshape(28, 28), cmap='gray')\n",
        "    plt.title(f\"Label: {train_dataset[i][1]}\", fontsize=10)\n",
        "    plt.axis('off')\n",
        "plt.show()\n"
      ],
      "metadata": {
        "id": "fe_bUf_vvq-1",
        "colab": {
          "base_uri": "https://localhost:8080/",
          "height": 775
        },
        "outputId": "f2fbd392-a18d-4e00-f7a1-59dc205f529c"
      },
      "execution_count": 20,
      "outputs": [
        {
          "output_type": "stream",
          "name": "stdout",
          "text": [
            "Train dataset size: 60000\n",
            "Test dataset size: 10000\n"
          ]
        },
        {
          "output_type": "display_data",
          "data": {
            "text/plain": [
              "<Figure size 1000x1000 with 4 Axes>"
            ],
            "image/png": "[encoded data removed]"
          },
          "metadata": {}
        }
      ]
    },
    {
      "cell_type": "markdown",
      "source": [
        "# **Splitting and Examining Sizes of Training and Testing Datasets in PyTorch**"
      ],
      "metadata": {
        "id": "7sGzfKWhJnB3"
      }
    },
    {
      "cell_type": "code",
      "source": [
        "# Split the train_dataset into X_train and y_train\n",
        "image_train, target_train = train_dataset.data, train_dataset.targets\n",
        "image_test, target_test = test_dataset.data, test_dataset.targets\n",
        "\n",
        "# Print the size of image_train, image_test, target_train and target_test\n",
        "print('image_train size:', image_train.shape)\n",
        "print('target_train size:', target_train.shape)\n",
        "print('image_test size:', image_test.shape)\n",
        "print('target_test size:', target_test.shape)\n",
        "\n",
        "\n"
      ],
      "metadata": {
        "colab": {
          "base_uri": "https://localhost:8080/"
        },
        "id": "8kYTgwys0ohs",
        "outputId": "bc89677f-ee34-4ed9-dca2-b457a65b1826"
      },
      "execution_count": 21,
      "outputs": [
        {
          "output_type": "stream",
          "name": "stdout",
          "text": [
            "image_train size: torch.Size([60000, 28, 28])\n",
            "target_train size: torch.Size([60000])\n",
            "image_test size: torch.Size([10000, 28, 28])\n",
            "target_test size: torch.Size([10000])\n"
          ]
        }
      ]
    },
    {
      "cell_type": "code",
      "source": [
        "plt.imshow(image_train[0].numpy().reshape(28, 28), cmap='gray')\n",
        "plt.show()"
      ],
      "metadata": {
        "colab": {
          "base_uri": "https://localhost:8080/",
          "height": 430
        },
        "id": "ikQ_OOgP1CN_",
        "outputId": "7f1c66dc-9272-442a-cff7-fc28efd69c8b"
      },
      "execution_count": 22,
      "outputs": [
        {
          "output_type": "display_data",
          "data": {
            "text/plain": [
              "<Figure size 640x480 with 1 Axes>"
            ],
            "image/png": "[encoded data removed]"
          },
          "metadata": {}
        }
      ]
    },
    {
      "cell_type": "code",
      "source": [
        "print(type(image_train[0]))\n",
        "print(type(target_train[0]))\n"
      ],
      "metadata": {
        "colab": {
          "base_uri": "https://localhost:8080/"
        },
        "id": "flg5yY7O1XF1",
        "outputId": "d2e3ea5d-b55b-4fb3-c2ed-37ed0a5a6ddd"
      },
      "execution_count": 23,
      "outputs": [
        {
          "output_type": "stream",
          "name": "stdout",
          "text": [
            "<class 'torch.Tensor'>\n",
            "<class 'torch.Tensor'>\n"
          ]
        }
      ]
    },
    {
      "cell_type": "code",
      "source": [
        "print(\"Image:\", image_train[0])\n",
        "print(\"Label:\", target_train[0])\n"
      ],
      "metadata": {
        "colab": {
          "base_uri": "https://localhost:8080/"
        },
        "id": "XnJcs7Aa21B2",
        "outputId": "d52bde8d-b1f1-4675-b5a5-86ef79ea9fee"
      },
      "execution_count": 24,
      "outputs": [
        {
          "output_type": "stream",
          "name": "stdout",
          "text": [
            "Image: tensor([[  0,   0,   0,   0,   0,   0,   0,   0,   0,   0,   0,   0,   0,   0,\n",
            "           0,   0,   0,   0,   0,   0,   0,   0,   0,   0,   0,   0,   0,   0],\n",
            "        [  0,   0,   0,   0,   0,   0,   0,   0,   0,   0,   0,   0,   0,   0,\n",
            "           0,   0,   0,   0,   0,   0,   0,   0,   0,   0,   0,   0,   0,   0],\n",
            "        [  0,   0,   0,   0,   0,   0,   0,   0,   0,   0,   0,   0,   0,   0,\n",
            "           0,   0,   0,   0,   0,   0,   0,   0,   0,   0,   0,   0,   0,   0],\n",
            "        [  0,   0,   0,   0,   0,   0,   0,   0,   0,   0,   0,   0,   1,   0,\n",
            "           0,  13,  73,   0,   0,   1,   4,   0,   0,   0,   0,   1,   1,   0],\n",
            "        [  0,   0,   0,   0,   0,   0,   0,   0,   0,   0,   0,   0,   3,   0,\n",
            "          36, 136, 127,  62,  54,   0,   0,   0,   1,   3,   4,   0,   0,   3],\n",
            "        [  0,   0,   0,   0,   0,   0,   0,   0,   0,   0,   0,   0,   6,   0,\n",
            "         102, 204, 176, 134, 144, 123,  23,   0,   0,   0,   0,  12,  10,   0],\n",
            "        [  0,   0,   0,   0,   0,   0,   0,   0,   0,   0,   0,   0,   0,   0,\n",
            "         155, 236, 207, 178, 107, 156, 161, 109,  64,  23,  77, 130,  72,  15],\n",
            "        [  0,   0,   0,   0,   0,   0,   0,   0,   0,   0,   0,   1,   0,  69,\n",
            "         207, 223, 218, 216, 216, 163, 127, 121, 122, 146, 141,  88, 172,  66],\n",
            "        [  0,   0,   0,   0,   0,   0,   0,   0,   0,   1,   1,   1,   0, 200,\n",
            "         232, 232, 233, 229, 223, 223, 215, 213, 164, 127, 123, 196, 229,   0],\n",
            "        [  0,   0,   0,   0,   0,   0,   0,   0,   0,   0,   0,   0,   0, 183,\n",
            "         225, 216, 223, 228, 235, 227, 224, 222, 224, 221, 223, 245, 173,   0],\n",
            "        [  0,   0,   0,   0,   0,   0,   0,   0,   0,   0,   0,   0,   0, 193,\n",
            "         228, 218, 213, 198, 180, 212, 210, 211, 213, 223, 220, 243, 202,   0],\n",
            "        [  0,   0,   0,   0,   0,   0,   0,   0,   0,   1,   3,   0,  12, 219,\n",
            "         220, 212, 218, 192, 169, 227, 208, 218, 224, 212, 226, 197, 209,  52],\n",
            "        [  0,   0,   0,   0,   0,   0,   0,   0,   0,   0,   6,   0,  99, 244,\n",
            "         222, 220, 218, 203, 198, 221, 215, 213, 222, 220, 245, 119, 167,  56],\n",
            "        [  0,   0,   0,   0,   0,   0,   0,   0,   0,   4,   0,   0,  55, 236,\n",
            "         228, 230, 228, 240, 232, 213, 218, 223, 234, 217, 217, 209,  92,   0],\n",
            "        [  0,   0,   1,   4,   6,   7,   2,   0,   0,   0,   0,   0, 237, 226,\n",
            "         217, 223, 222, 219, 222, 221, 216, 223, 229, 215, 218, 255,  77,   0],\n",
            "        [  0,   3,   0,   0,   0,   0,   0,   0,   0,  62, 145, 204, 228, 207,\n",
            "         213, 221, 218, 208, 211, 218, 224, 223, 219, 215, 224, 244, 159,   0],\n",
            "        [  0,   0,   0,   0,  18,  44,  82, 107, 189, 228, 220, 222, 217, 226,\n",
            "         200, 205, 211, 230, 224, 234, 176, 188, 250, 248, 233, 238, 215,   0],\n",
            "        [  0,  57, 187, 208, 224, 221, 224, 208, 204, 214, 208, 209, 200, 159,\n",
            "         245, 193, 206, 223, 255, 255, 221, 234, 221, 211, 220, 232, 246,   0],\n",
            "        [  3, 202, 228, 224, 221, 211, 211, 214, 205, 205, 205, 220, 240,  80,\n",
            "         150, 255, 229, 221, 188, 154, 191, 210, 204, 209, 222, 228, 225,   0],\n",
            "        [ 98, 233, 198, 210, 222, 229, 229, 234, 249, 220, 194, 215, 217, 241,\n",
            "          65,  73, 106, 117, 168, 219, 221, 215, 217, 223, 223, 224, 229,  29],\n",
            "        [ 75, 204, 212, 204, 193, 205, 211, 225, 216, 185, 197, 206, 198, 213,\n",
            "         240, 195, 227, 245, 239, 223, 218, 212, 209, 222, 220, 221, 230,  67],\n",
            "        [ 48, 203, 183, 194, 213, 197, 185, 190, 194, 192, 202, 214, 219, 221,\n",
            "         220, 236, 225, 216, 199, 206, 186, 181, 177, 172, 181, 205, 206, 115],\n",
            "        [  0, 122, 219, 193, 179, 171, 183, 196, 204, 210, 213, 207, 211, 210,\n",
            "         200, 196, 194, 191, 195, 191, 198, 192, 176, 156, 167, 177, 210,  92],\n",
            "        [  0,   0,  74, 189, 212, 191, 175, 172, 175, 181, 185, 188, 189, 188,\n",
            "         193, 198, 204, 209, 210, 210, 211, 188, 188, 194, 192, 216, 170,   0],\n",
            "        [  2,   0,   0,   0,  66, 200, 222, 237, 239, 242, 246, 243, 244, 221,\n",
            "         220, 193, 191, 179, 182, 182, 181, 176, 166, 168,  99,  58,   0,   0],\n",
            "        [  0,   0,   0,   0,   0,   0,   0,  40,  61,  44,  72,  41,  35,   0,\n",
            "           0,   0,   0,   0,   0,   0,   0,   0,   0,   0,   0,   0,   0,   0],\n",
            "        [  0,   0,   0,   0,   0,   0,   0,   0,   0,   0,   0,   0,   0,   0,\n",
            "           0,   0,   0,   0,   0,   0,   0,   0,   0,   0,   0,   0,   0,   0],\n",
            "        [  0,   0,   0,   0,   0,   0,   0,   0,   0,   0,   0,   0,   0,   0,\n",
            "           0,   0,   0,   0,   0,   0,   0,   0,   0,   0,   0,   0,   0,   0]],\n",
            "       dtype=torch.uint8)\n",
            "Label: tensor(9)\n"
          ]
        }
      ]
    },
    {
      "cell_type": "markdown",
      "source": [
        "#**Data Normalization**"
      ],
      "metadata": {
        "id": "h-jLH1b3cy4M"
      }
    },
    {
      "cell_type": "code",
      "source": [
        "image_train = image_train / 255\n",
        "image_test = image_test / 255\n"
      ],
      "metadata": {
        "id": "N1daJ8OU3Q1Q"
      },
      "execution_count": 25,
      "outputs": []
    },
    {
      "cell_type": "code",
      "source": [
        "print(image_train[0])\n"
      ],
      "metadata": {
        "id": "ZN2Im3yg7GQN",
        "colab": {
          "base_uri": "https://localhost:8080/"
        },
        "outputId": "ee62f9d5-dab7-4a8c-9d33-f15458d26782"
      },
      "execution_count": 26,
      "outputs": [
        {
          "output_type": "stream",
          "name": "stdout",
          "text": [
            "tensor([[0.0000, 0.0000, 0.0000, 0.0000, 0.0000, 0.0000, 0.0000, 0.0000, 0.0000,\n",
            "         0.0000, 0.0000, 0.0000, 0.0000, 0.0000, 0.0000, 0.0000, 0.0000, 0.0000,\n",
            "         0.0000, 0.0000, 0.0000, 0.0000, 0.0000, 0.0000, 0.0000, 0.0000, 0.0000,\n",
            "         0.0000],\n",
            "        [0.0000, 0.0000, 0.0000, 0.0000, 0.0000, 0.0000, 0.0000, 0.0000, 0.0000,\n",
            "         0.0000, 0.0000, 0.0000, 0.0000, 0.0000, 0.0000, 0.0000, 0.0000, 0.0000,\n",
            "         0.0000, 0.0000, 0.0000, 0.0000, 0.0000, 0.0000, 0.0000, 0.0000, 0.0000,\n",
            "         0.0000],\n",
            "        [0.0000, 0.0000, 0.0000, 0.0000, 0.0000, 0.0000, 0.0000, 0.0000, 0.0000,\n",
            "         0.0000, 0.0000, 0.0000, 0.0000, 0.0000, 0.0000, 0.0000, 0.0000, 0.0000,\n",
            "         0.0000, 0.0000, 0.0000, 0.0000, 0.0000, 0.0000, 0.0000, 0.0000, 0.0000,\n",
            "         0.0000],\n",
            "        [0.0000, 0.0000, 0.0000, 0.0000, 0.0000, 0.0000, 0.0000, 0.0000, 0.0000,\n",
            "         0.0000, 0.0000, 0.0000, 0.0039, 0.0000, 0.0000, 0.0510, 0.2863, 0.0000,\n",
            "         0.0000, 0.0039, 0.0157, 0.0000, 0.0000, 0.0000, 0.0000, 0.0039, 0.0039,\n",
            "         0.0000],\n",
            "        [0.0000, 0.0000, 0.0000, 0.0000, 0.0000, 0.0000, 0.0000, 0.0000, 0.0000,\n",
            "         0.0000, 0.0000, 0.0000, 0.0118, 0.0000, 0.1412, 0.5333, 0.4980, 0.2431,\n",
            "         0.2118, 0.0000, 0.0000, 0.0000, 0.0039, 0.0118, 0.0157, 0.0000, 0.0000,\n",
            "         0.0118],\n",
            "        [0.0000, 0.0000, 0.0000, 0.0000, 0.0000, 0.0000, 0.0000, 0.0000, 0.0000,\n",
            "         0.0000, 0.0000, 0.0000, 0.0235, 0.0000, 0.4000, 0.8000, 0.6902, 0.5255,\n",
            "         0.5647, 0.4824, 0.0902, 0.0000, 0.0000, 0.0000, 0.0000, 0.0471, 0.0392,\n",
            "         0.0000],\n",
            "        [0.0000, 0.0000, 0.0000, 0.0000, 0.0000, 0.0000, 0.0000, 0.0000, 0.0000,\n",
            "         0.0000, 0.0000, 0.0000, 0.0000, 0.0000, 0.6078, 0.9255, 0.8118, 0.6980,\n",
            "         0.4196, 0.6118, 0.6314, 0.4275, 0.2510, 0.0902, 0.3020, 0.5098, 0.2824,\n",
            "         0.0588],\n",
            "        [0.0000, 0.0000, 0.0000, 0.0000, 0.0000, 0.0000, 0.0000, 0.0000, 0.0000,\n",
            "         0.0000, 0.0000, 0.0039, 0.0000, 0.2706, 0.8118, 0.8745, 0.8549, 0.8471,\n",
            "         0.8471, 0.6392, 0.4980, 0.4745, 0.4784, 0.5725, 0.5529, 0.3451, 0.6745,\n",
            "         0.2588],\n",
            "        [0.0000, 0.0000, 0.0000, 0.0000, 0.0000, 0.0000, 0.0000, 0.0000, 0.0000,\n",
            "         0.0039, 0.0039, 0.0039, 0.0000, 0.7843, 0.9098, 0.9098, 0.9137, 0.8980,\n",
            "         0.8745, 0.8745, 0.8431, 0.8353, 0.6431, 0.4980, 0.4824, 0.7686, 0.8980,\n",
            "         0.0000],\n",
            "        [0.0000, 0.0000, 0.0000, 0.0000, 0.0000, 0.0000, 0.0000, 0.0000, 0.0000,\n",
            "         0.0000, 0.0000, 0.0000, 0.0000, 0.7176, 0.8824, 0.8471, 0.8745, 0.8941,\n",
            "         0.9216, 0.8902, 0.8784, 0.8706, 0.8784, 0.8667, 0.8745, 0.9608, 0.6784,\n",
            "         0.0000],\n",
            "        [0.0000, 0.0000, 0.0000, 0.0000, 0.0000, 0.0000, 0.0000, 0.0000, 0.0000,\n",
            "         0.0000, 0.0000, 0.0000, 0.0000, 0.7569, 0.8941, 0.8549, 0.8353, 0.7765,\n",
            "         0.7059, 0.8314, 0.8235, 0.8275, 0.8353, 0.8745, 0.8627, 0.9529, 0.7922,\n",
            "         0.0000],\n",
            "        [0.0000, 0.0000, 0.0000, 0.0000, 0.0000, 0.0000, 0.0000, 0.0000, 0.0000,\n",
            "         0.0039, 0.0118, 0.0000, 0.0471, 0.8588, 0.8627, 0.8314, 0.8549, 0.7529,\n",
            "         0.6627, 0.8902, 0.8157, 0.8549, 0.8784, 0.8314, 0.8863, 0.7725, 0.8196,\n",
            "         0.2039],\n",
            "        [0.0000, 0.0000, 0.0000, 0.0000, 0.0000, 0.0000, 0.0000, 0.0000, 0.0000,\n",
            "         0.0000, 0.0235, 0.0000, 0.3882, 0.9569, 0.8706, 0.8627, 0.8549, 0.7961,\n",
            "         0.7765, 0.8667, 0.8431, 0.8353, 0.8706, 0.8627, 0.9608, 0.4667, 0.6549,\n",
            "         0.2196],\n",
            "        [0.0000, 0.0000, 0.0000, 0.0000, 0.0000, 0.0000, 0.0000, 0.0000, 0.0000,\n",
            "         0.0157, 0.0000, 0.0000, 0.2157, 0.9255, 0.8941, 0.9020, 0.8941, 0.9412,\n",
            "         0.9098, 0.8353, 0.8549, 0.8745, 0.9176, 0.8510, 0.8510, 0.8196, 0.3608,\n",
            "         0.0000],\n",
            "        [0.0000, 0.0000, 0.0039, 0.0157, 0.0235, 0.0275, 0.0078, 0.0000, 0.0000,\n",
            "         0.0000, 0.0000, 0.0000, 0.9294, 0.8863, 0.8510, 0.8745, 0.8706, 0.8588,\n",
            "         0.8706, 0.8667, 0.8471, 0.8745, 0.8980, 0.8431, 0.8549, 1.0000, 0.3020,\n",
            "         0.0000],\n",
            "        [0.0000, 0.0118, 0.0000, 0.0000, 0.0000, 0.0000, 0.0000, 0.0000, 0.0000,\n",
            "         0.2431, 0.5686, 0.8000, 0.8941, 0.8118, 0.8353, 0.8667, 0.8549, 0.8157,\n",
            "         0.8275, 0.8549, 0.8784, 0.8745, 0.8588, 0.8431, 0.8784, 0.9569, 0.6235,\n",
            "         0.0000],\n",
            "        [0.0000, 0.0000, 0.0000, 0.0000, 0.0706, 0.1725, 0.3216, 0.4196, 0.7412,\n",
            "         0.8941, 0.8627, 0.8706, 0.8510, 0.8863, 0.7843, 0.8039, 0.8275, 0.9020,\n",
            "         0.8784, 0.9176, 0.6902, 0.7373, 0.9804, 0.9725, 0.9137, 0.9333, 0.8431,\n",
            "         0.0000],\n",
            "        [0.0000, 0.2235, 0.7333, 0.8157, 0.8784, 0.8667, 0.8784, 0.8157, 0.8000,\n",
            "         0.8392, 0.8157, 0.8196, 0.7843, 0.6235, 0.9608, 0.7569, 0.8078, 0.8745,\n",
            "         1.0000, 1.0000, 0.8667, 0.9176, 0.8667, 0.8275, 0.8627, 0.9098, 0.9647,\n",
            "         0.0000],\n",
            "        [0.0118, 0.7922, 0.8941, 0.8784, 0.8667, 0.8275, 0.8275, 0.8392, 0.8039,\n",
            "         0.8039, 0.8039, 0.8627, 0.9412, 0.3137, 0.5882, 1.0000, 0.8980, 0.8667,\n",
            "         0.7373, 0.6039, 0.7490, 0.8235, 0.8000, 0.8196, 0.8706, 0.8941, 0.8824,\n",
            "         0.0000],\n",
            "        [0.3843, 0.9137, 0.7765, 0.8235, 0.8706, 0.8980, 0.8980, 0.9176, 0.9765,\n",
            "         0.8627, 0.7608, 0.8431, 0.8510, 0.9451, 0.2549, 0.2863, 0.4157, 0.4588,\n",
            "         0.6588, 0.8588, 0.8667, 0.8431, 0.8510, 0.8745, 0.8745, 0.8784, 0.8980,\n",
            "         0.1137],\n",
            "        [0.2941, 0.8000, 0.8314, 0.8000, 0.7569, 0.8039, 0.8275, 0.8824, 0.8471,\n",
            "         0.7255, 0.7725, 0.8078, 0.7765, 0.8353, 0.9412, 0.7647, 0.8902, 0.9608,\n",
            "         0.9373, 0.8745, 0.8549, 0.8314, 0.8196, 0.8706, 0.8627, 0.8667, 0.9020,\n",
            "         0.2627],\n",
            "        [0.1882, 0.7961, 0.7176, 0.7608, 0.8353, 0.7725, 0.7255, 0.7451, 0.7608,\n",
            "         0.7529, 0.7922, 0.8392, 0.8588, 0.8667, 0.8627, 0.9255, 0.8824, 0.8471,\n",
            "         0.7804, 0.8078, 0.7294, 0.7098, 0.6941, 0.6745, 0.7098, 0.8039, 0.8078,\n",
            "         0.4510],\n",
            "        [0.0000, 0.4784, 0.8588, 0.7569, 0.7020, 0.6706, 0.7176, 0.7686, 0.8000,\n",
            "         0.8235, 0.8353, 0.8118, 0.8275, 0.8235, 0.7843, 0.7686, 0.7608, 0.7490,\n",
            "         0.7647, 0.7490, 0.7765, 0.7529, 0.6902, 0.6118, 0.6549, 0.6941, 0.8235,\n",
            "         0.3608],\n",
            "        [0.0000, 0.0000, 0.2902, 0.7412, 0.8314, 0.7490, 0.6863, 0.6745, 0.6863,\n",
            "         0.7098, 0.7255, 0.7373, 0.7412, 0.7373, 0.7569, 0.7765, 0.8000, 0.8196,\n",
            "         0.8235, 0.8235, 0.8275, 0.7373, 0.7373, 0.7608, 0.7529, 0.8471, 0.6667,\n",
            "         0.0000],\n",
            "        [0.0078, 0.0000, 0.0000, 0.0000, 0.2588, 0.7843, 0.8706, 0.9294, 0.9373,\n",
            "         0.9490, 0.9647, 0.9529, 0.9569, 0.8667, 0.8627, 0.7569, 0.7490, 0.7020,\n",
            "         0.7137, 0.7137, 0.7098, 0.6902, 0.6510, 0.6588, 0.3882, 0.2275, 0.0000,\n",
            "         0.0000],\n",
            "        [0.0000, 0.0000, 0.0000, 0.0000, 0.0000, 0.0000, 0.0000, 0.1569, 0.2392,\n",
            "         0.1725, 0.2824, 0.1608, 0.1373, 0.0000, 0.0000, 0.0000, 0.0000, 0.0000,\n",
            "         0.0000, 0.0000, 0.0000, 0.0000, 0.0000, 0.0000, 0.0000, 0.0000, 0.0000,\n",
            "         0.0000],\n",
            "        [0.0000, 0.0000, 0.0000, 0.0000, 0.0000, 0.0000, 0.0000, 0.0000, 0.0000,\n",
            "         0.0000, 0.0000, 0.0000, 0.0000, 0.0000, 0.0000, 0.0000, 0.0000, 0.0000,\n",
            "         0.0000, 0.0000, 0.0000, 0.0000, 0.0000, 0.0000, 0.0000, 0.0000, 0.0000,\n",
            "         0.0000],\n",
            "        [0.0000, 0.0000, 0.0000, 0.0000, 0.0000, 0.0000, 0.0000, 0.0000, 0.0000,\n",
            "         0.0000, 0.0000, 0.0000, 0.0000, 0.0000, 0.0000, 0.0000, 0.0000, 0.0000,\n",
            "         0.0000, 0.0000, 0.0000, 0.0000, 0.0000, 0.0000, 0.0000, 0.0000, 0.0000,\n",
            "         0.0000]])\n"
          ]
        }
      ]
    },
    {
      "cell_type": "markdown",
      "source": [
        "#**Adjusting Image Dimensions for PyTorch Convolutional Neural Network**#"
      ],
      "metadata": {
        "id": "5hot9sExItRT"
      }
    },
    {
      "cell_type": "code",
      "source": [
        "# Reshape the images in the dataset to specify that each image has a single channel (grayscale) since I am going to feed to CNN\n",
        "image_train = image_train.unsqueeze(1)\n",
        "image_test = image_test.unsqueeze(1)\n",
        "\n",
        "print(image_train.shape)\n",
        "print(image_test.shape)\n"
      ],
      "metadata": {
        "id": "vdfra1pr7PoL",
        "colab": {
          "base_uri": "https://localhost:8080/"
        },
        "outputId": "dfe1394c-2245-4382-d909-c5d3cd1c845d"
      },
      "execution_count": 27,
      "outputs": [
        {
          "output_type": "stream",
          "name": "stdout",
          "text": [
            "torch.Size([60000, 1, 28, 28])\n",
            "torch.Size([10000, 1, 28, 28])\n"
          ]
        }
      ]
    },
    {
      "cell_type": "code",
      "source": [
        "from sklearn.model_selection import train_test_split\n",
        "\n",
        "image_train, image_val, target_train, target_val = train_test_split(image_train, target_train, test_size=0.2, random_state=0)\n",
        "\n",
        "print(image_train.shape)\n",
        "print(image_val.shape)\n",
        "print(target_train.shape)\n",
        "print(target_val.shape)\n"
      ],
      "metadata": {
        "colab": {
          "base_uri": "https://localhost:8080/"
        },
        "id": "CkECHnUfNzYA",
        "outputId": "fdd1b4fe-561a-440e-e3c4-8a80cdf11c97"
      },
      "execution_count": 28,
      "outputs": [
        {
          "output_type": "stream",
          "name": "stdout",
          "text": [
            "torch.Size([48000, 1, 28, 28])\n",
            "torch.Size([12000, 1, 28, 28])\n",
            "torch.Size([48000])\n",
            "torch.Size([12000])\n"
          ]
        }
      ]
    },
    {
      "cell_type": "code",
      "source": [
        "from google.colab import files\n",
        "uploaded = files.upload()"
      ],
      "metadata": {
        "id": "KnaoyHuRFIhy",
        "outputId": "cdeea8c1-3eeb-45fb-8796-1261495e4a57",
        "colab": {
          "base_uri": "https://localhost:8080/",
          "height": 73
        }
      },
      "execution_count": 33,
      "outputs": [
        {
          "output_type": "display_data",
          "data": {
            "text/plain": [
              "<IPython.core.display.HTML object>"
            ],
            "text/html": [
              "\n",
              "     <input type=\"file\" id=\"files-e05c628e-89a0-4fe3-a465-18443c46fe84\" name=\"files[]\" multiple disabled\n",
              "        style=\"border:none\" />\n",
              "     <output id=\"result-e05c628e-89a0-4fe3-a465-18443c46fe84\">\n",
              "      Upload widget is only available when the cell has been executed in the\n",
              "      current browser session. Please rerun this cell to enable.\n",
              "      </output>\n",
              "      <script>// Copyright 2017 Google LLC\n",
              "//\n",
              "// Licensed under the Apache License, Version 2.0 (the \"License\");\n",
              "// you may not use this file except in compliance with the License.\n",
              "// You may obtain a copy of the License at\n",
              "//\n",
              "//      http://www.apache.org/licenses/LICENSE-2.0\n",
              "//\n",
              "// Unless required by applicable law or agreed to in writing, software\n",
              "// distributed under the License is distributed on an \"AS IS\" BASIS,\n",
              "// WITHOUT WARRANTIES OR CONDITIONS OF ANY KIND, either express or implied.\n",
              "// See the License for the specific language governing permissions and\n",
              "// limitations under the License.\n",
              "\n",
              "/**\n",
              " * @fileoverview Helpers for google.colab Python module.\n",
              " */\n",
              "(function(scope) {\n",
              "function span(text, styleAttributes = {}) {\n",
              "  const element = document.createElement('span');\n",
              "  element.textContent = text;\n",
              "  for (const key of Object.keys(styleAttributes)) {\n",
              "    element.style[key] = styleAttributes[key];\n",
              "  }\n",
              "  return element;\n",
              "}\n",
              "\n",
              "// Max number of bytes which will be uploaded at a time.\n",
              "const MAX_PAYLOAD_SIZE = 100 * 1024;\n",
              "\n",
              "function _uploadFiles(inputId, outputId) {\n",
              "  const steps = uploadFilesStep(inputId, outputId);\n",
              "  const outputElement = document.getElementById(outputId);\n",
              "  // Cache steps on the outputElement to make it available for the next call\n",
              "  // to uploadFilesContinue from Python.\n",
              "  outputElement.steps = steps;\n",
              "\n",
              "  return _uploadFilesContinue(outputId);\n",
              "}\n",
              "\n",
              "// This is roughly an async generator (not supported in the browser yet),\n",
              "// where there are multiple asynchronous steps and the Python side is going\n",
              "// to poll for completion of each step.\n",
              "// This uses a Promise to block the python side on completion of each step,\n",
              "// then passes the result of the previous step as the input to the next step.\n",
              "function _uploadFilesContinue(outputId) {\n",
              "  const outputElement = document.getElementById(outputId);\n",
              "  const steps = outputElement.steps;\n",
              "\n",
              "  const next = steps.next(outputElement.lastPromiseValue);\n",
              "  return Promise.resolve(next.value.promise).then((value) => {\n",
              "    // Cache the last promise value to make it available to the next\n",
              "    // step of the generator.\n",
              "    outputElement.lastPromiseValue = value;\n",
              "    return next.value.response;\n",
              "  });\n",
              "}\n",
              "\n",
              "/**\n",
              " * Generator function which is called between each async step of the upload\n",
              " * process.\n",
              " * @param {string} inputId Element ID of the input file picker element.\n",
              " * @param {string} outputId Element ID of the output display.\n",
              " * @return {!Iterable<!Object>} Iterable of next steps.\n",
              " */\n",
              "function* uploadFilesStep(inputId, outputId) {\n",
              "  const inputElement = document.getElementById(inputId);\n",
              "  inputElement.disabled = false;\n",
              "\n",
              "  const outputElement = document.getElementById(outputId);\n",
              "  outputElement.innerHTML = '';\n",
              "\n",
              "  const pickedPromise = new Promise((resolve) => {\n",
              "    inputElement.addEventListener('change', (e) => {\n",
              "      resolve(e.target.files);\n",
              "    });\n",
              "  });\n",
              "\n",
              "  const cancel = document.createElement('button');\n",
              "  inputElement.parentElement.appendChild(cancel);\n",
              "  cancel.textContent = 'Cancel upload';\n",
              "  const cancelPromise = new Promise((resolve) => {\n",
              "    cancel.onclick = () => {\n",
              "      resolve(null);\n",
              "    };\n",
              "  });\n",
              "\n",
              "  // Wait for the user to pick the files.\n",
              "  const files = yield {\n",
              "    promise: Promise.race([pickedPromise, cancelPromise]),\n",
              "    response: {\n",
              "      action: 'starting',\n",
              "    }\n",
              "  };\n",
              "\n",
              "  cancel.remove();\n",
              "\n",
              "  // Disable the input element since further picks are not allowed.\n",
              "  inputElement.disabled = true;\n",
              "\n",
              "  if (!files) {\n",
              "    return {\n",
              "      response: {\n",
              "        action: 'complete',\n",
              "      }\n",
              "    };\n",
              "  }\n",
              "\n",
              "  for (const file of files) {\n",
              "    const li = document.createElement('li');\n",
              "    li.append(span(file.name, {fontWeight: 'bold'}));\n",
              "    li.append(span(\n",
              "        `(${file.type || 'n/a'}) - ${file.size} bytes, ` +\n",
              "        `last modified: ${\n",
              "            file.lastModifiedDate ? file.lastModifiedDate.toLocaleDateString() :\n",
              "                                    'n/a'} - `));\n",
              "    const percent = span('0% done');\n",
              "    li.appendChild(percent);\n",
              "\n",
              "    outputElement.appendChild(li);\n",
              "\n",
              "    const fileDataPromise = new Promise((resolve) => {\n",
              "      const reader = new FileReader();\n",
              "      reader.onload = (e) => {\n",
              "        resolve(e.target.result);\n",
              "      };\n",
              "      reader.readAsArrayBuffer(file);\n",
              "    });\n",
              "    // Wait for the data to be ready.\n",
              "    let fileData = yield {\n",
              "      promise: fileDataPromise,\n",
              "      response: {\n",
              "        action: 'continue',\n",
              "      }\n",
              "    };\n",
              "\n",
              "    // Use a chunked sending to avoid message size limits. See b/62115660.\n",
              "    let position = 0;\n",
              "    do {\n",
              "      const length = Math.min(fileData.byteLength - position, MAX_PAYLOAD_SIZE);\n",
              "      const chunk = new Uint8Array(fileData, position, length);\n",
              "      position += length;\n",
              "\n",
              "      const base64 = btoa(String.fromCharCode.apply(null, chunk));\n",
              "      yield {\n",
              "        response: {\n",
              "          action: 'append',\n",
              "          file: file.name,\n",
              "          data: base64,\n",
              "        },\n",
              "      };\n",
              "\n",
              "      let percentDone = fileData.byteLength === 0 ?\n",
              "          100 :\n",
              "          Math.round((position / fileData.byteLength) * 100);\n",
              "      percent.textContent = `${percentDone}% done`;\n",
              "\n",
              "    } while (position < fileData.byteLength);\n",
              "  }\n",
              "\n",
              "  // All done.\n",
              "  yield {\n",
              "    response: {\n",
              "      action: 'complete',\n",
              "    }\n",
              "  };\n",
              "}\n",
              "\n",
              "scope.google = scope.google || {};\n",
              "scope.google.colab = scope.google.colab || {};\n",
              "scope.google.colab._files = {\n",
              "  _uploadFiles,\n",
              "  _uploadFilesContinue,\n",
              "};\n",
              "})(self);\n",
              "</script> "
            ]
          },
          "metadata": {}
        },
        {
          "output_type": "stream",
          "name": "stdout",
          "text": [
            "Saving nn.svg to nn.svg\n"
          ]
        }
      ]
    },
    {
      "cell_type": "markdown",
      "source": [
        "#**Displaying CNN Architecture Used**"
      ],
      "metadata": {
        "id": "2qDoSNfqH9fJ"
      }
    },
    {
      "cell_type": "code",
      "source": [
        "from IPython.display import Image, display, HTML\n",
        "\n",
        "image_path = list(uploaded.keys())[0]  # Assuming only one file is uploaded\n",
        "\n",
        "# Display the image\n",
        "# Set the desired height and width\n",
        "height = 50\n",
        "width = 300\n",
        "\n",
        "# Read the content of the SVG file\n",
        "svg_content = None\n",
        "with open(image_path, 'r') as file:\n",
        "    svg_content = file.read()\n",
        "\n",
        "# Display the image with specified height and width using HTML\n",
        "html_code = f'<div style=\"height: {height}px; width: {width}px;\">{svg_content}</div>'\n",
        "display(HTML(html_code))"
      ],
      "metadata": {
        "id": "6wJoPEkUFZZT",
        "outputId": "0604381d-8b0b-4691-b8c8-5f8a314be05b",
        "colab": {
          "base_uri": "https://localhost:8080/",
          "height": 889
        }
      },
      "execution_count": 43,
      "outputs": [
        {
          "output_type": "display_data",
          "data": {
            "text/plain": [
              "<IPython.core.display.HTML object>"
            ],
            "text/html": [
              "<div style=\"height: 50px; width: 300px;\"><svg xmlns=\"http://www.w3.org/2000/svg\" width=\"1777\" height=\"858\" style=\"cursor: move;\"><g transform=\"translate(242.56502576039946,106.04880564359689) scale(0.6786505343465757)\"><rect class=\"rect\" id=\"0_0\" width=\"28\" height=\"28\" x=\"336.5\" y=\"291\" style=\"fill: rgb(160, 160, 160); stroke: black; stroke-width: 1; opacity: 0.8;\"></rect><rect class=\"rect\" id=\"0_1\" width=\"28\" height=\"28\" x=\"344.5\" y=\"299\" style=\"fill: rgb(224, 224, 224); stroke: black; stroke-width: 1; opacity: 0.8;\"></rect><rect class=\"rect\" id=\"0_2\" width=\"28\" height=\"28\" x=\"352.5\" y=\"307\" style=\"fill: rgb(160, 160, 160); stroke: black; stroke-width: 1; opacity: 0.8;\"></rect><rect class=\"rect\" id=\"0_3\" width=\"28\" height=\"28\" x=\"360.5\" y=\"315\" style=\"fill: rgb(224, 224, 224); stroke: black; stroke-width: 1; opacity: 0.8;\"></rect><rect class=\"rect\" id=\"0_4\" width=\"28\" height=\"28\" x=\"368.5\" y=\"323\" style=\"fill: rgb(160, 160, 160); stroke: black; stroke-width: 1; opacity: 0.8;\"></rect><rect class=\"rect\" id=\"0_5\" width=\"28\" height=\"28\" x=\"376.5\" y=\"331\" style=\"fill: rgb(224, 224, 224); stroke: black; stroke-width: 1; opacity: 0.8;\"></rect><rect class=\"rect\" id=\"0_6\" width=\"28\" height=\"28\" x=\"384.5\" y=\"339\" style=\"fill: rgb(160, 160, 160); stroke: black; stroke-width: 1; opacity: 0.8;\"></rect><rect class=\"rect\" id=\"0_7\" width=\"28\" height=\"28\" x=\"392.5\" y=\"347\" style=\"fill: rgb(224, 224, 224); stroke: black; stroke-width: 1; opacity: 0.8;\"></rect><rect class=\"rect\" id=\"0_8\" width=\"28\" height=\"28\" x=\"400.5\" y=\"355\" style=\"fill: rgb(160, 160, 160); stroke: black; stroke-width: 1; opacity: 0.8;\"></rect><rect class=\"rect\" id=\"0_9\" width=\"28\" height=\"28\" x=\"408.5\" y=\"363\" style=\"fill: rgb(224, 224, 224); stroke: black; stroke-width: 1; opacity: 0.8;\"></rect><rect class=\"rect\" id=\"0_10\" width=\"28\" height=\"28\" x=\"416.5\" y=\"371\" style=\"fill: rgb(160, 160, 160); stroke: black; stroke-width: 1; opacity: 0.8;\"></rect><rect class=\"rect\" id=\"0_11\" width=\"28\" height=\"28\" x=\"424.5\" y=\"379\" style=\"fill: rgb(224, 224, 224); stroke: black; stroke-width: 1; opacity: 0.8;\"></rect><rect class=\"rect\" id=\"0_12\" width=\"28\" height=\"28\" x=\"432.5\" y=\"387\" style=\"fill: rgb(160, 160, 160); stroke: black; stroke-width: 1; opacity: 0.8;\"></rect><rect class=\"rect\" id=\"0_13\" width=\"28\" height=\"28\" x=\"440.5\" y=\"395\" style=\"fill: rgb(224, 224, 224); stroke: black; stroke-width: 1; opacity: 0.8;\"></rect><rect class=\"rect\" id=\"0_14\" width=\"28\" height=\"28\" x=\"448.5\" y=\"403\" style=\"fill: rgb(160, 160, 160); stroke: black; stroke-width: 1; opacity: 0.8;\"></rect><rect class=\"rect\" id=\"0_15\" width=\"28\" height=\"28\" x=\"456.5\" y=\"411\" style=\"fill: rgb(224, 224, 224); stroke: black; stroke-width: 1; opacity: 0.8;\"></rect><rect class=\"rect\" id=\"0_16\" width=\"28\" height=\"28\" x=\"464.5\" y=\"419\" style=\"fill: rgb(160, 160, 160); stroke: black; stroke-width: 1; opacity: 0.8;\"></rect><rect class=\"rect\" id=\"0_17\" width=\"28\" height=\"28\" x=\"472.5\" y=\"427\" style=\"fill: rgb(224, 224, 224); stroke: black; stroke-width: 1; opacity: 0.8;\"></rect><rect class=\"rect\" id=\"0_18\" width=\"28\" height=\"28\" x=\"480.5\" y=\"435\" style=\"fill: rgb(160, 160, 160); stroke: black; stroke-width: 1; opacity: 0.8;\"></rect><rect class=\"rect\" id=\"0_19\" width=\"28\" height=\"28\" x=\"488.5\" y=\"443\" style=\"fill: rgb(224, 224, 224); stroke: black; stroke-width: 1; opacity: 0.8;\"></rect><rect class=\"rect\" id=\"0_20\" width=\"28\" height=\"28\" x=\"496.5\" y=\"451\" style=\"fill: rgb(160, 160, 160); stroke: black; stroke-width: 1; opacity: 0.8;\"></rect><rect class=\"rect\" id=\"0_21\" width=\"28\" height=\"28\" x=\"504.5\" y=\"459\" style=\"fill: rgb(224, 224, 224); stroke: black; stroke-width: 1; opacity: 0.8;\"></rect><rect class=\"rect\" id=\"0_22\" width=\"28\" height=\"28\" x=\"512.5\" y=\"467\" style=\"fill: rgb(160, 160, 160); stroke: black; stroke-width: 1; opacity: 0.8;\"></rect><rect class=\"rect\" id=\"0_23\" width=\"28\" height=\"28\" x=\"520.5\" y=\"475\" style=\"fill: rgb(224, 224, 224); stroke: black; stroke-width: 1; opacity: 0.8;\"></rect><rect class=\"rect\" id=\"0_24\" width=\"28\" height=\"28\" x=\"528.5\" y=\"483\" style=\"fill: rgb(160, 160, 160); stroke: black; stroke-width: 1; opacity: 0.8;\"></rect><rect class=\"rect\" id=\"0_25\" width=\"28\" height=\"28\" x=\"536.5\" y=\"491\" style=\"fill: rgb(224, 224, 224); stroke: black; stroke-width: 1; opacity: 0.8;\"></rect><rect class=\"rect\" id=\"0_26\" width=\"28\" height=\"28\" x=\"544.5\" y=\"499\" style=\"fill: rgb(160, 160, 160); stroke: black; stroke-width: 1; opacity: 0.8;\"></rect><rect class=\"rect\" id=\"0_27\" width=\"28\" height=\"28\" x=\"552.5\" y=\"507\" style=\"fill: rgb(224, 224, 224); stroke: black; stroke-width: 1; opacity: 0.8;\"></rect><rect class=\"rect\" id=\"0_28\" width=\"28\" height=\"28\" x=\"560.5\" y=\"515\" style=\"fill: rgb(160, 160, 160); stroke: black; stroke-width: 1; opacity: 0.8;\"></rect><rect class=\"rect\" id=\"0_29\" width=\"28\" height=\"28\" x=\"568.5\" y=\"523\" style=\"fill: rgb(224, 224, 224); stroke: black; stroke-width: 1; opacity: 0.8;\"></rect><rect class=\"rect\" id=\"0_30\" width=\"28\" height=\"28\" x=\"576.5\" y=\"531\" style=\"fill: rgb(160, 160, 160); stroke: black; stroke-width: 1; opacity: 0.8;\"></rect><rect class=\"rect\" id=\"0_31\" width=\"28\" height=\"28\" x=\"584.5\" y=\"539\" style=\"fill: rgb(224, 224, 224); stroke: black; stroke-width: 1; opacity: 0.8;\"></rect><rect class=\"rect\" id=\"1_0\" width=\"64\" height=\"64\" x=\"645.5\" y=\"369\" style=\"fill: rgb(160, 160, 160); stroke: black; stroke-width: 1; opacity: 0.8;\"></rect><rect class=\"rect\" id=\"1_1\" width=\"64\" height=\"64\" x=\"653.5\" y=\"377\" style=\"fill: rgb(224, 224, 224); stroke: black; stroke-width: 1; opacity: 0.8;\"></rect><rect class=\"rect\" id=\"1_2\" width=\"64\" height=\"64\" x=\"661.5\" y=\"385\" style=\"fill: rgb(160, 160, 160); stroke: black; stroke-width: 1; opacity: 0.8;\"></rect><rect class=\"rect\" id=\"1_3\" width=\"64\" height=\"64\" x=\"669.5\" y=\"393\" style=\"fill: rgb(224, 224, 224); stroke: black; stroke-width: 1; opacity: 0.8;\"></rect><rect class=\"rect\" id=\"1_4\" width=\"64\" height=\"64\" x=\"677.5\" y=\"401\" style=\"fill: rgb(160, 160, 160); stroke: black; stroke-width: 1; opacity: 0.8;\"></rect><rect class=\"rect\" id=\"1_5\" width=\"64\" height=\"64\" x=\"685.5\" y=\"409\" style=\"fill: rgb(224, 224, 224); stroke: black; stroke-width: 1; opacity: 0.8;\"></rect><rect class=\"rect\" id=\"1_6\" width=\"64\" height=\"64\" x=\"693.5\" y=\"417\" style=\"fill: rgb(160, 160, 160); stroke: black; stroke-width: 1; opacity: 0.8;\"></rect><rect class=\"rect\" id=\"1_7\" width=\"64\" height=\"64\" x=\"701.5\" y=\"425\" style=\"fill: rgb(224, 224, 224); stroke: black; stroke-width: 1; opacity: 0.8;\"></rect><rect class=\"rect\" id=\"2_0\" width=\"48\" height=\"48\" x=\"775.5\" y=\"313\" style=\"fill: rgb(160, 160, 160); stroke: black; stroke-width: 1; opacity: 0.8;\"></rect><rect class=\"rect\" id=\"2_1\" width=\"48\" height=\"48\" x=\"783.5\" y=\"321\" style=\"fill: rgb(224, 224, 224); stroke: black; stroke-width: 1; opacity: 0.8;\"></rect><rect class=\"rect\" id=\"2_2\" width=\"48\" height=\"48\" x=\"791.5\" y=\"329\" style=\"fill: rgb(160, 160, 160); stroke: black; stroke-width: 1; opacity: 0.8;\"></rect><rect class=\"rect\" id=\"2_3\" width=\"48\" height=\"48\" x=\"799.5\" y=\"337\" style=\"fill: rgb(224, 224, 224); stroke: black; stroke-width: 1; opacity: 0.8;\"></rect><rect class=\"rect\" id=\"2_4\" width=\"48\" height=\"48\" x=\"807.5\" y=\"345\" style=\"fill: rgb(160, 160, 160); stroke: black; stroke-width: 1; opacity: 0.8;\"></rect><rect class=\"rect\" id=\"2_5\" width=\"48\" height=\"48\" x=\"815.5\" y=\"353\" style=\"fill: rgb(224, 224, 224); stroke: black; stroke-width: 1; opacity: 0.8;\"></rect><rect class=\"rect\" id=\"2_6\" width=\"48\" height=\"48\" x=\"823.5\" y=\"361\" style=\"fill: rgb(160, 160, 160); stroke: black; stroke-width: 1; opacity: 0.8;\"></rect><rect class=\"rect\" id=\"2_7\" width=\"48\" height=\"48\" x=\"831.5\" y=\"369\" style=\"fill: rgb(224, 224, 224); stroke: black; stroke-width: 1; opacity: 0.8;\"></rect><rect class=\"rect\" id=\"2_8\" width=\"48\" height=\"48\" x=\"839.5\" y=\"377\" style=\"fill: rgb(160, 160, 160); stroke: black; stroke-width: 1; opacity: 0.8;\"></rect><rect class=\"rect\" id=\"2_9\" width=\"48\" height=\"48\" x=\"847.5\" y=\"385\" style=\"fill: rgb(224, 224, 224); stroke: black; stroke-width: 1; opacity: 0.8;\"></rect><rect class=\"rect\" id=\"2_10\" width=\"48\" height=\"48\" x=\"855.5\" y=\"393\" style=\"fill: rgb(160, 160, 160); stroke: black; stroke-width: 1; opacity: 0.8;\"></rect><rect class=\"rect\" id=\"2_11\" width=\"48\" height=\"48\" x=\"863.5\" y=\"401\" style=\"fill: rgb(224, 224, 224); stroke: black; stroke-width: 1; opacity: 0.8;\"></rect><rect class=\"rect\" id=\"2_12\" width=\"48\" height=\"48\" x=\"871.5\" y=\"409\" style=\"fill: rgb(160, 160, 160); stroke: black; stroke-width: 1; opacity: 0.8;\"></rect><rect class=\"rect\" id=\"2_13\" width=\"48\" height=\"48\" x=\"879.5\" y=\"417\" style=\"fill: rgb(224, 224, 224); stroke: black; stroke-width: 1; opacity: 0.8;\"></rect><rect class=\"rect\" id=\"2_14\" width=\"48\" height=\"48\" x=\"887.5\" y=\"425\" style=\"fill: rgb(160, 160, 160); stroke: black; stroke-width: 1; opacity: 0.8;\"></rect><rect class=\"rect\" id=\"2_15\" width=\"48\" height=\"48\" x=\"895.5\" y=\"433\" style=\"fill: rgb(224, 224, 224); stroke: black; stroke-width: 1; opacity: 0.8;\"></rect><rect class=\"rect\" id=\"2_16\" width=\"48\" height=\"48\" x=\"903.5\" y=\"441\" style=\"fill: rgb(160, 160, 160); stroke: black; stroke-width: 1; opacity: 0.8;\"></rect><rect class=\"rect\" id=\"2_17\" width=\"48\" height=\"48\" x=\"911.5\" y=\"449\" style=\"fill: rgb(224, 224, 224); stroke: black; stroke-width: 1; opacity: 0.8;\"></rect><rect class=\"rect\" id=\"2_18\" width=\"48\" height=\"48\" x=\"919.5\" y=\"457\" style=\"fill: rgb(160, 160, 160); stroke: black; stroke-width: 1; opacity: 0.8;\"></rect><rect class=\"rect\" id=\"2_19\" width=\"48\" height=\"48\" x=\"927.5\" y=\"465\" style=\"fill: rgb(224, 224, 224); stroke: black; stroke-width: 1; opacity: 0.8;\"></rect><rect class=\"rect\" id=\"2_20\" width=\"48\" height=\"48\" x=\"935.5\" y=\"473\" style=\"fill: rgb(160, 160, 160); stroke: black; stroke-width: 1; opacity: 0.8;\"></rect><rect class=\"rect\" id=\"2_21\" width=\"48\" height=\"48\" x=\"943.5\" y=\"481\" style=\"fill: rgb(224, 224, 224); stroke: black; stroke-width: 1; opacity: 0.8;\"></rect><rect class=\"rect\" id=\"2_22\" width=\"48\" height=\"48\" x=\"951.5\" y=\"489\" style=\"fill: rgb(160, 160, 160); stroke: black; stroke-width: 1; opacity: 0.8;\"></rect><rect class=\"rect\" id=\"2_23\" width=\"48\" height=\"48\" x=\"959.5\" y=\"497\" style=\"fill: rgb(224, 224, 224); stroke: black; stroke-width: 1; opacity: 0.8;\"></rect><rect class=\"rect\" id=\"3_0\" width=\"16\" height=\"16\" x=\"987.5\" y=\"329\" style=\"fill: rgb(160, 160, 160); stroke: black; stroke-width: 1; opacity: 0.8;\"></rect><rect class=\"rect\" id=\"3_1\" width=\"16\" height=\"16\" x=\"995.5\" y=\"337\" style=\"fill: rgb(224, 224, 224); stroke: black; stroke-width: 1; opacity: 0.8;\"></rect><rect class=\"rect\" id=\"3_2\" width=\"16\" height=\"16\" x=\"1003.5\" y=\"345\" style=\"fill: rgb(160, 160, 160); stroke: black; stroke-width: 1; opacity: 0.8;\"></rect><rect class=\"rect\" id=\"3_3\" width=\"16\" height=\"16\" x=\"1011.5\" y=\"353\" style=\"fill: rgb(224, 224, 224); stroke: black; stroke-width: 1; opacity: 0.8;\"></rect><rect class=\"rect\" id=\"3_4\" width=\"16\" height=\"16\" x=\"1019.5\" y=\"361\" style=\"fill: rgb(160, 160, 160); stroke: black; stroke-width: 1; opacity: 0.8;\"></rect><rect class=\"rect\" id=\"3_5\" width=\"16\" height=\"16\" x=\"1027.5\" y=\"369\" style=\"fill: rgb(224, 224, 224); stroke: black; stroke-width: 1; opacity: 0.8;\"></rect><rect class=\"rect\" id=\"3_6\" width=\"16\" height=\"16\" x=\"1035.5\" y=\"377\" style=\"fill: rgb(160, 160, 160); stroke: black; stroke-width: 1; opacity: 0.8;\"></rect><rect class=\"rect\" id=\"3_7\" width=\"16\" height=\"16\" x=\"1043.5\" y=\"385\" style=\"fill: rgb(224, 224, 224); stroke: black; stroke-width: 1; opacity: 0.8;\"></rect><rect class=\"rect\" id=\"3_8\" width=\"16\" height=\"16\" x=\"1051.5\" y=\"393\" style=\"fill: rgb(160, 160, 160); stroke: black; stroke-width: 1; opacity: 0.8;\"></rect><rect class=\"rect\" id=\"3_9\" width=\"16\" height=\"16\" x=\"1059.5\" y=\"401\" style=\"fill: rgb(224, 224, 224); stroke: black; stroke-width: 1; opacity: 0.8;\"></rect><rect class=\"rect\" id=\"3_10\" width=\"16\" height=\"16\" x=\"1067.5\" y=\"409\" style=\"fill: rgb(160, 160, 160); stroke: black; stroke-width: 1; opacity: 0.8;\"></rect><rect class=\"rect\" id=\"3_11\" width=\"16\" height=\"16\" x=\"1075.5\" y=\"417\" style=\"fill: rgb(224, 224, 224); stroke: black; stroke-width: 1; opacity: 0.8;\"></rect><rect class=\"rect\" id=\"3_12\" width=\"16\" height=\"16\" x=\"1083.5\" y=\"425\" style=\"fill: rgb(160, 160, 160); stroke: black; stroke-width: 1; opacity: 0.8;\"></rect><rect class=\"rect\" id=\"3_13\" width=\"16\" height=\"16\" x=\"1091.5\" y=\"433\" style=\"fill: rgb(224, 224, 224); stroke: black; stroke-width: 1; opacity: 0.8;\"></rect><rect class=\"rect\" id=\"3_14\" width=\"16\" height=\"16\" x=\"1099.5\" y=\"441\" style=\"fill: rgb(160, 160, 160); stroke: black; stroke-width: 1; opacity: 0.8;\"></rect><rect class=\"rect\" id=\"3_15\" width=\"16\" height=\"16\" x=\"1107.5\" y=\"449\" style=\"fill: rgb(224, 224, 224); stroke: black; stroke-width: 1; opacity: 0.8;\"></rect><rect class=\"rect\" id=\"3_16\" width=\"16\" height=\"16\" x=\"1115.5\" y=\"457\" style=\"fill: rgb(160, 160, 160); stroke: black; stroke-width: 1; opacity: 0.8;\"></rect><rect class=\"rect\" id=\"3_17\" width=\"16\" height=\"16\" x=\"1123.5\" y=\"465\" style=\"fill: rgb(224, 224, 224); stroke: black; stroke-width: 1; opacity: 0.8;\"></rect><rect class=\"rect\" id=\"3_18\" width=\"16\" height=\"16\" x=\"1131.5\" y=\"473\" style=\"fill: rgb(160, 160, 160); stroke: black; stroke-width: 1; opacity: 0.8;\"></rect><rect class=\"rect\" id=\"3_19\" width=\"16\" height=\"16\" x=\"1139.5\" y=\"481\" style=\"fill: rgb(224, 224, 224); stroke: black; stroke-width: 1; opacity: 0.8;\"></rect><rect class=\"rect\" id=\"3_20\" width=\"16\" height=\"16\" x=\"1147.5\" y=\"489\" style=\"fill: rgb(160, 160, 160); stroke: black; stroke-width: 1; opacity: 0.8;\"></rect><rect class=\"rect\" id=\"3_21\" width=\"16\" height=\"16\" x=\"1155.5\" y=\"497\" style=\"fill: rgb(224, 224, 224); stroke: black; stroke-width: 1; opacity: 0.8;\"></rect><rect class=\"rect\" id=\"3_22\" width=\"16\" height=\"16\" x=\"1163.5\" y=\"505\" style=\"fill: rgb(160, 160, 160); stroke: black; stroke-width: 1; opacity: 0.8;\"></rect><rect class=\"rect\" id=\"3_23\" width=\"16\" height=\"16\" x=\"1171.5\" y=\"513\" style=\"fill: rgb(224, 224, 224); stroke: black; stroke-width: 1; opacity: 0.8;\"></rect><rect class=\"conv\" id=\"conv_0\" width=\"3\" height=\"3\" x=\"588.2515306676014\" y=\"552.3413475312743\" style=\"fill-opacity: 0; stroke: black; stroke-width: 1; stroke-opacity: 0.8;\"></rect><rect class=\"conv\" id=\"conv_1\" width=\"16\" height=\"16\" x=\"726.9809390626051\" y=\"449.1353218792057\" style=\"fill-opacity: 0; stroke: black; stroke-width: 1; stroke-opacity: 0.8;\"></rect><rect class=\"conv\" id=\"conv_2\" width=\"8\" height=\"8\" x=\"984.4719493239543\" y=\"529.9352445655414\" style=\"fill-opacity: 0; stroke: black; stroke-width: 1; stroke-opacity: 0.8;\"></rect><line class=\"link\" id=\"conv_0\" x1=\"591.2515306676014\" y1=\"555.3413475312743\" x2=\"711.1039185090597\" y2=\"459.15384968006225\" style=\"stroke: black; stroke-width: 0.5; stroke-opacity: 0.8;\"></line><line class=\"link\" id=\"conv_0\" x1=\"591.2515306676014\" y1=\"552.3413475312743\" x2=\"711.1039185090597\" y2=\"459.15384968006225\" style=\"stroke: black; stroke-width: 0.5; stroke-opacity: 0.8;\"></line><line class=\"link\" id=\"conv_1\" x1=\"742.9809390626051\" y1=\"465.1353218792057\" x2=\"984.9809390626051\" y2=\"521.1353218792058\" style=\"stroke: black; stroke-width: 0.5; stroke-opacity: 0.8;\"></line><line class=\"link\" id=\"conv_1\" x1=\"742.9809390626051\" y1=\"449.1353218792057\" x2=\"984.9809390626051\" y2=\"521.1353218792058\" style=\"stroke: black; stroke-width: 0.5; stroke-opacity: 0.8;\"></line><line class=\"link\" id=\"conv_2\" x1=\"992.4719493239543\" y1=\"537.9352445655414\" x2=\"1181.4887797295817\" y2=\"526.1740978262166\" style=\"stroke: black; stroke-width: 0.5; stroke-opacity: 0.8;\"></line><line class=\"link\" id=\"conv_2\" x1=\"992.4719493239543\" y1=\"529.9352445655414\" x2=\"1181.4887797295817\" y2=\"526.1740978262166\" style=\"stroke: black; stroke-width: 0.5; stroke-opacity: 0.8;\"></line><polygon class=\"poly\" id=\"fc_0\" points=\"1167.5,338.4903320081219 1177.5,338.4903320081219 1358.5193359837563,519.5096679918781 1348.5193359837563,519.5096679918781\" style=\"fill: rgb(224, 224, 224); stroke: black; stroke-width: 1; opacity: 0.8;\"></polygon><polygon class=\"poly\" id=\"fc_1\" points=\"1360.5193359837563,383.74516600406093 1370.5193359837563,383.74516600406093 1461.0290039756344,474.254833995939 1451.0290039756344,474.254833995939\" style=\"fill: rgb(224, 224, 224); stroke: black; stroke-width: 1; opacity: 0.8;\"></polygon><line class=\"line\" id=\"fc_0\" x1=\"1187.5\" y1=\"529\" x2=\"1348.5193359837563\" y2=\"519.5096679918781\" style=\"stroke: black; stroke-width: 0.5; stroke-opacity: 0.8; opacity: 1;\"></line><line class=\"line\" id=\"fc_0\" x1=\"1003.5\" y1=\"329\" x2=\"1167.5\" y2=\"338.4903320081219\" style=\"stroke: black; stroke-width: 0.5; stroke-opacity: 0.8; opacity: 1;\"></line><line class=\"line\" id=\"fc_1\" x1=\"1358.5193359837563\" y1=\"519.5096679918781\" x2=\"1451.0290039756344\" y2=\"474.25483399593907\" style=\"stroke: black; stroke-width: 0.5; stroke-opacity: 0.8; opacity: 1;\"></line><line class=\"line\" id=\"fc_1\" x1=\"1177.5\" y1=\"338.4903320081219\" x2=\"1360.5193359837563\" y2=\"383.74516600406093\" style=\"stroke: black; stroke-width: 0.5; stroke-opacity: 0.8; opacity: 1;\"></line><text class=\"text\" dy=\".35em\" font-family=\"sans-serif\" x=\"644\" y=\"567\" style=\"font-size: 16px; opacity: 1;\">Max-Pool</text><text class=\"text\" dy=\".35em\" font-family=\"sans-serif\" x=\"813.5\" y=\"567\" style=\"font-size: 16px; opacity: 1;\">Convolution</text><text class=\"text\" dy=\".35em\" font-family=\"sans-serif\" x=\"1032.5\" y=\"567\" style=\"font-size: 16px; opacity: 1;\">Max-Pool</text><text class=\"text\" dy=\".35em\" font-family=\"sans-serif\" x=\"1207.754833995939\" y=\"567\" style=\"font-size: 16px; opacity: 1;\">Dense</text><text class=\"info\" dy=\"-0.3em\" font-family=\"sans-serif\" x=\"336.5\" y=\"276\" style=\"font-size: 16px;\">32@28x28</text><text class=\"info\" dy=\"-0.3em\" font-family=\"sans-serif\" x=\"645.5\" y=\"354\" style=\"font-size: 16px;\">8@64x64</text><text class=\"info\" dy=\"-0.3em\" font-family=\"sans-serif\" x=\"775.5\" y=\"298\" style=\"font-size: 16px;\">24@48x48</text><text class=\"info\" dy=\"-0.3em\" font-family=\"sans-serif\" x=\"987.5\" y=\"314\" style=\"font-size: 16px;\">24@16x16</text><text class=\"info\" dy=\"-0.3em\" font-family=\"sans-serif\" x=\"1167.5\" y=\"323.4903320081219\" style=\"font-size: 16px;\">1x256</text><text class=\"info\" dy=\"-0.3em\" font-family=\"sans-serif\" x=\"1360.5193359837563\" y=\"368.74516600406093\" style=\"font-size: 16px;\">1x128</text></g></svg></div>"
            ]
          },
          "metadata": {}
        }
      ]
    },
    {
      "cell_type": "code",
      "source": [
        "import torch.nn.functional as F\n",
        "\n",
        "class ConvNet(nn.Module):\n",
        "  def __init__(self):\n",
        "      super(ConvNet, self).__init__()\n",
        "      self.conv1 = nn.Conv2d(1, 32, kernel_size=3, padding=1)\n",
        "      self.pool = nn.MaxPool2d(kernel_size=2)\n",
        "      self.conv2 = nn.Conv2d(32, 64, kernel_size=3, padding=1)\n",
        "      self.conv3 = nn.Conv2d(64, 128, kernel_size=3,padding=1)\n",
        "      self.conv4 = nn.Conv2d(128, 128, kernel_size=3, padding=1)\n",
        "      self.fc1 = nn.Linear(128, 64)\n",
        "      self.fc2 = nn.Linear(64, 10)\n",
        "\n",
        "  def forward(self, x):\n",
        "      x = self.pool(F.relu(self.conv1(x)))\n",
        "      x = self.pool(F.relu(self.conv2(x)))\n",
        "      x = self.pool(F.relu(self.conv3(x)))\n",
        "      x = self.pool(F.relu(self.conv4(x)))\n",
        "      x = x.view(-1, 128)\n",
        "      x = F.relu(self.fc1(x))\n",
        "      x = self.fc2(x)\n",
        "      return x\n",
        "\n",
        "# Create an instance of the ConvNet\n",
        "model = ConvNet()\n",
        "\n",
        "# Print the architecture\n",
        "print(model)\n",
        "\n",
        "\n",
        "device = \"cuda\" if torch.cuda.is_available() else \"cpu\"\n",
        "\n",
        "model = ConvNet().to(device)\n",
        "print(model)\n"
      ],
      "metadata": {
        "colab": {
          "base_uri": "https://localhost:8080/"
        },
        "id": "I95ZSNIVZoVp",
        "outputId": "010d74e8-bc1d-4b3a-bf60-8e75952c5e41"
      },
      "execution_count": 29,
      "outputs": [
        {
          "output_type": "stream",
          "name": "stdout",
          "text": [
            "ConvNet(\n",
            "  (conv1): Conv2d(1, 32, kernel_size=(3, 3), stride=(1, 1), padding=(1, 1))\n",
            "  (pool): MaxPool2d(kernel_size=2, stride=2, padding=0, dilation=1, ceil_mode=False)\n",
            "  (conv2): Conv2d(32, 64, kernel_size=(3, 3), stride=(1, 1), padding=(1, 1))\n",
            "  (conv3): Conv2d(64, 128, kernel_size=(3, 3), stride=(1, 1), padding=(1, 1))\n",
            "  (conv4): Conv2d(128, 128, kernel_size=(3, 3), stride=(1, 1), padding=(1, 1))\n",
            "  (fc1): Linear(in_features=128, out_features=64, bias=True)\n",
            "  (fc2): Linear(in_features=64, out_features=10, bias=True)\n",
            ")\n",
            "ConvNet(\n",
            "  (conv1): Conv2d(1, 32, kernel_size=(3, 3), stride=(1, 1), padding=(1, 1))\n",
            "  (pool): MaxPool2d(kernel_size=2, stride=2, padding=0, dilation=1, ceil_mode=False)\n",
            "  (conv2): Conv2d(32, 64, kernel_size=(3, 3), stride=(1, 1), padding=(1, 1))\n",
            "  (conv3): Conv2d(64, 128, kernel_size=(3, 3), stride=(1, 1), padding=(1, 1))\n",
            "  (conv4): Conv2d(128, 128, kernel_size=(3, 3), stride=(1, 1), padding=(1, 1))\n",
            "  (fc1): Linear(in_features=128, out_features=64, bias=True)\n",
            "  (fc2): Linear(in_features=64, out_features=10, bias=True)\n",
            ")\n"
          ]
        }
      ]
    },
    {
      "cell_type": "markdown",
      "source": [
        "#Training the model and validating on validation dataset"
      ],
      "metadata": {
        "id": "4JoN1sLOIKMt"
      }
    },
    {
      "cell_type": "code",
      "source": [
        "# Define the loss function and optimizer\n",
        "criterion = nn.CrossEntropyLoss()\n",
        "optimizer = optim.Adam(model.parameters(), lr=0.001)\n",
        "\n",
        "# Move the training and validation images and labels to the device\n",
        "image_train = image_train.to(device)\n",
        "target_train = target_train.to(device)\n",
        "image_val = image_val.to(device)\n",
        "target_val = target_val.to(device)\n",
        "\n",
        "# Train the model for a certain number of epochs\n",
        "num_epochs = 10\n",
        "for epoch in range(num_epochs):\n",
        "    # Train the model\n",
        "    model.train()\n",
        "    total_loss = 0.0  # Accumulate the total loss for the epoch\n",
        "    for images, labels in DataLoader(list(zip(image_train, target_train)), batch_size=4, shuffle=True):\n",
        "        optimizer.zero_grad()\n",
        "        outputs = model(images)\n",
        "        loss = criterion(outputs, labels.squeeze().long())\n",
        "        loss.backward()\n",
        "        optimizer.step()\n",
        "        total_loss += loss.item()  # Accumulate the loss for each batch\n",
        "\n",
        "    average_loss = total_loss / len(image_train)\n",
        "\n",
        "    # Evaluate the model on the validation set\n",
        "    model.eval()\n",
        "    with torch.no_grad():\n",
        "        correct = 0\n",
        "        total = 0\n",
        "        for images, labels in DataLoader(list(zip(image_val, target_val)), batch_size=4):\n",
        "            outputs = model(images)\n",
        "            predictions = torch.argmax(outputs, dim=1)\n",
        "            correct += torch.sum(predictions == labels)\n",
        "            total += len(labels)\n",
        "\n",
        "        accuracy = correct / total\n",
        "\n",
        "    print(f\"Epoch {epoch + 1}/{num_epochs}, Loss: {average_loss:.4f}, Validation Accuracy: {accuracy:.4f}\")\n",
        "\n"
      ],
      "metadata": {
        "colab": {
          "base_uri": "https://localhost:8080/"
        },
        "id": "pTDCH9EhasA2",
        "outputId": "ca5e605e-1362-419e-fa97-d86fcb3935e2"
      },
      "execution_count": 30,
      "outputs": [
        {
          "output_type": "stream",
          "name": "stdout",
          "text": [
            "Epoch 1/10, Loss: 0.1159, Validation Accuracy: 0.8802\n",
            "Epoch 2/10, Loss: 0.0747, Validation Accuracy: 0.8963\n",
            "Epoch 4/10, Loss: 0.0586, Validation Accuracy: 0.9008\n",
            "Epoch 5/10, Loss: 0.0559, Validation Accuracy: 0.9055\n",
            "Epoch 6/10, Loss: 0.0524, Validation Accuracy: 0.9082\n",
            "Epoch 7/10, Loss: 0.0494, Validation Accuracy: 0.9074\n",
            "Epoch 8/10, Loss: 0.0484, Validation Accuracy: 0.9077\n",
            "Epoch 9/10, Loss: 0.0465, Validation Accuracy: 0.9134\n",
            "Epoch 10/10, Loss: 0.0447, Validation Accuracy: 0.9107\n"
          ]
        }
      ]
    },
    {
      "cell_type": "markdown",
      "source": [
        "#Testing the model in on 10,000 test dataset"
      ],
      "metadata": {
        "id": "g_xQE_1FIV_F"
      }
    },
    {
      "cell_type": "code",
      "source": [
        "# Evaluate the model on the test dataset\n",
        "model.eval()\n",
        "with torch.no_grad():\n",
        "  correct = 0\n",
        "  total = 0\n",
        "  for images, labels in DataLoader(list(zip(image_test, target_test)), batch_size=4):\n",
        "      outputs = model(images)\n",
        "      predictions = torch.argmax(outputs, dim=1)\n",
        "      correct += torch.sum(predictions == labels)\n",
        "      total += len(labels)\n",
        "\n",
        "  accuracy = correct / total\n",
        "\n",
        "  # Calculate the test loss\n",
        "  total_loss = 0.0\n",
        "  for images, labels in DataLoader(list(zip(image_test, target_test)), batch_size=4):\n",
        "      outputs = model(images)\n",
        "      loss = criterion(outputs, labels.squeeze().long())\n",
        "      total_loss += loss.item()\n",
        "\n",
        "  average_loss = total_loss / len(image_test)\n",
        "\n",
        "  print(f\"Test Accuracy: {accuracy:.4f}, Test Loss: {average_loss:.4f}\")\n"
      ],
      "metadata": {
        "id": "p7seDfVBc6CU",
        "colab": {
          "base_uri": "https://localhost:8080/"
        },
        "outputId": "3aa16553-b90c-43d5-95cc-c8efa73f6a52"
      },
      "execution_count": 57,
      "outputs": [
        {
          "output_type": "stream",
          "name": "stdout",
          "text": [
            "Test Accuracy: 0.9050, Test Loss: 0.1040\n"
          ]
        }
      ]
    },
    {
      "cell_type": "code",
      "source": [
        "# Save the trained model's parameters\n",
        "torch.save(model.state_dict(), 'model_parameters.pt')\n",
        "\n",
        "# Load the saved model's parameters\n",
        "model.load_state_dict(torch.load('model_parameters.pt'))\n",
        "\n",
        "# Test the model on a single input image\n",
        "model.eval()\n",
        "with torch.no_grad():\n",
        "    # Get a single image from the test set\n",
        "    image, label = image_test[0], target_test[0]\n",
        "\n",
        "    # Move the image to the device\n",
        "    image = image.to(device)\n",
        "\n",
        "    # Reshape the image to add a batch dimension\n",
        "    image = image.unsqueeze(0)\n",
        "\n",
        "    # Get the model's prediction\n",
        "    output = model(image)\n",
        "\n",
        "    # Get the predicted class\n",
        "    prediction = torch.argmax(output, dim=1)\n",
        "\n",
        "    # Print the prediction and the actual label\n",
        "    print(f\"Prediction: {prediction}, Actual Label: {label}\")\n",
        "\n"
      ],
      "metadata": {
        "id": "3D0Yv04hW7QF",
        "outputId": "f49bd521-9e06-4c11-c9c2-32c683a37329",
        "colab": {
          "base_uri": "https://localhost:8080/"
        }
      },
      "execution_count": 58,
      "outputs": [
        {
          "output_type": "stream",
          "name": "stdout",
          "text": [
            "Prediction: tensor([9], device='cuda:0'), Actual Label: 9\n"
          ]
        }
      ]
    }
  ]
}